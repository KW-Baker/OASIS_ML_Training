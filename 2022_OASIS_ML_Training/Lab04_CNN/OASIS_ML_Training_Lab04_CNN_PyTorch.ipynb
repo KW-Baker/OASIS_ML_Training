{
 "cells": [
  {
   "cell_type": "markdown",
   "metadata": {},
   "source": [
    "# Lab04 CNN from Pytorch"
   ]
  },
  {
   "cell_type": "code",
   "execution_count": 22,
   "metadata": {},
   "outputs": [],
   "source": [
    "import os\n",
    "import numpy as np\n",
    "import pandas as pd\n",
    "import csv\n",
    "import matplotlib.pyplot as plt\n",
    "\n",
    "import torch\n",
    "import torch.nn as nn\n",
    "import torch.nn.functional as F\n",
    "import torch\n",
    "from torch.utils.data import Dataset, DataLoader\n",
    "\n",
    "from torch.autograd import Variable\n",
    "from sklearn.model_selection import train_test_split"
   ]
  },
  {
   "cell_type": "code",
   "execution_count": 23,
   "metadata": {},
   "outputs": [
    {
     "name": "stdout",
     "output_type": "stream",
     "text": [
      "GPU state: cuda:0\n"
     ]
    }
   ],
   "source": [
    "device = 'cuda:0' if torch.cuda.is_available() else 'cpu'\n",
    "print('GPU state:', device)"
   ]
  },
  {
   "cell_type": "markdown",
   "metadata": {},
   "source": [
    "# Step 0: Show Data"
   ]
  },
  {
   "cell_type": "code",
   "execution_count": 24,
   "metadata": {},
   "outputs": [],
   "source": [
    "# https://www.kaggle.com/code/pyim59/starter-mnist-in-csv-5b700bc9-3"
   ]
  },
  {
   "cell_type": "code",
   "execution_count": 25,
   "metadata": {},
   "outputs": [
    {
     "name": "stdout",
     "output_type": "stream",
     "text": [
      "Folder contains：\n",
      "['mnist_test.csv', 'mnist_train.csv']\n"
     ]
    }
   ],
   "source": [
    "print(\"Folder contains：\")\n",
    "print(os.listdir(\"./MNIST_revise\"))"
   ]
  },
  {
   "cell_type": "code",
   "execution_count": 26,
   "metadata": {},
   "outputs": [
    {
     "name": "stdout",
     "output_type": "stream",
     "text": [
      "./MNIST_revise/mnist_test.csv\n",
      "./MNIST_revise/mnist_train.csv\n"
     ]
    }
   ],
   "source": [
    "file_path = []\n",
    "for dirname, _, filenames in os.walk('./MNIST_revise'):\n",
    "    for filename in filenames:\n",
    "        file_path.append(str(filename))\n",
    "        print(os.path.join(dirname, filename))"
   ]
  },
  {
   "cell_type": "code",
   "execution_count": 27,
   "metadata": {},
   "outputs": [
    {
     "name": "stdout",
     "output_type": "stream",
     "text": [
      "There are 1000 rows and 785 columns\n"
     ]
    }
   ],
   "source": [
    "nRowsRead = 1000 # specify 'None' if want to read whole file\n",
    "# mnist_test.csv may have more rows in reality, but we are only loading/previewing the first 1000 rows\n",
    "df1 = pd.read_csv('./MNIST_revise/mnist_test.csv', delimiter=',', nrows = nRowsRead)\n",
    "df1.dataframeName = 'mnist_test.csv'\n",
    "nRow, nCol = df1.shape\n",
    "print(f'There are {nRow} rows and {nCol} columns')"
   ]
  },
  {
   "cell_type": "code",
   "execution_count": 28,
   "metadata": {},
   "outputs": [
    {
     "data": {
      "text/html": [
       "<div>\n",
       "<style scoped>\n",
       "    .dataframe tbody tr th:only-of-type {\n",
       "        vertical-align: middle;\n",
       "    }\n",
       "\n",
       "    .dataframe tbody tr th {\n",
       "        vertical-align: top;\n",
       "    }\n",
       "\n",
       "    .dataframe thead th {\n",
       "        text-align: right;\n",
       "    }\n",
       "</style>\n",
       "<table border=\"1\" class=\"dataframe\">\n",
       "  <thead>\n",
       "    <tr style=\"text-align: right;\">\n",
       "      <th></th>\n",
       "      <th>label</th>\n",
       "      <th>1x1</th>\n",
       "      <th>1x2</th>\n",
       "      <th>1x3</th>\n",
       "      <th>1x4</th>\n",
       "      <th>1x5</th>\n",
       "      <th>1x6</th>\n",
       "      <th>1x7</th>\n",
       "      <th>1x8</th>\n",
       "      <th>1x9</th>\n",
       "      <th>...</th>\n",
       "      <th>28x19</th>\n",
       "      <th>28x20</th>\n",
       "      <th>28x21</th>\n",
       "      <th>28x22</th>\n",
       "      <th>28x23</th>\n",
       "      <th>28x24</th>\n",
       "      <th>28x25</th>\n",
       "      <th>28x26</th>\n",
       "      <th>28x27</th>\n",
       "      <th>28x28</th>\n",
       "    </tr>\n",
       "  </thead>\n",
       "  <tbody>\n",
       "    <tr>\n",
       "      <th>0</th>\n",
       "      <td>7</td>\n",
       "      <td>0</td>\n",
       "      <td>0</td>\n",
       "      <td>0</td>\n",
       "      <td>0</td>\n",
       "      <td>0</td>\n",
       "      <td>0</td>\n",
       "      <td>0</td>\n",
       "      <td>0</td>\n",
       "      <td>0</td>\n",
       "      <td>...</td>\n",
       "      <td>0</td>\n",
       "      <td>0</td>\n",
       "      <td>0</td>\n",
       "      <td>0</td>\n",
       "      <td>0</td>\n",
       "      <td>0</td>\n",
       "      <td>0</td>\n",
       "      <td>0</td>\n",
       "      <td>0</td>\n",
       "      <td>0</td>\n",
       "    </tr>\n",
       "    <tr>\n",
       "      <th>1</th>\n",
       "      <td>2</td>\n",
       "      <td>0</td>\n",
       "      <td>0</td>\n",
       "      <td>0</td>\n",
       "      <td>0</td>\n",
       "      <td>0</td>\n",
       "      <td>0</td>\n",
       "      <td>0</td>\n",
       "      <td>0</td>\n",
       "      <td>0</td>\n",
       "      <td>...</td>\n",
       "      <td>0</td>\n",
       "      <td>0</td>\n",
       "      <td>0</td>\n",
       "      <td>0</td>\n",
       "      <td>0</td>\n",
       "      <td>0</td>\n",
       "      <td>0</td>\n",
       "      <td>0</td>\n",
       "      <td>0</td>\n",
       "      <td>0</td>\n",
       "    </tr>\n",
       "    <tr>\n",
       "      <th>2</th>\n",
       "      <td>1</td>\n",
       "      <td>0</td>\n",
       "      <td>0</td>\n",
       "      <td>0</td>\n",
       "      <td>0</td>\n",
       "      <td>0</td>\n",
       "      <td>0</td>\n",
       "      <td>0</td>\n",
       "      <td>0</td>\n",
       "      <td>0</td>\n",
       "      <td>...</td>\n",
       "      <td>0</td>\n",
       "      <td>0</td>\n",
       "      <td>0</td>\n",
       "      <td>0</td>\n",
       "      <td>0</td>\n",
       "      <td>0</td>\n",
       "      <td>0</td>\n",
       "      <td>0</td>\n",
       "      <td>0</td>\n",
       "      <td>0</td>\n",
       "    </tr>\n",
       "    <tr>\n",
       "      <th>3</th>\n",
       "      <td>0</td>\n",
       "      <td>0</td>\n",
       "      <td>0</td>\n",
       "      <td>0</td>\n",
       "      <td>0</td>\n",
       "      <td>0</td>\n",
       "      <td>0</td>\n",
       "      <td>0</td>\n",
       "      <td>0</td>\n",
       "      <td>0</td>\n",
       "      <td>...</td>\n",
       "      <td>0</td>\n",
       "      <td>0</td>\n",
       "      <td>0</td>\n",
       "      <td>0</td>\n",
       "      <td>0</td>\n",
       "      <td>0</td>\n",
       "      <td>0</td>\n",
       "      <td>0</td>\n",
       "      <td>0</td>\n",
       "      <td>0</td>\n",
       "    </tr>\n",
       "    <tr>\n",
       "      <th>4</th>\n",
       "      <td>4</td>\n",
       "      <td>0</td>\n",
       "      <td>0</td>\n",
       "      <td>0</td>\n",
       "      <td>0</td>\n",
       "      <td>0</td>\n",
       "      <td>0</td>\n",
       "      <td>0</td>\n",
       "      <td>0</td>\n",
       "      <td>0</td>\n",
       "      <td>...</td>\n",
       "      <td>0</td>\n",
       "      <td>0</td>\n",
       "      <td>0</td>\n",
       "      <td>0</td>\n",
       "      <td>0</td>\n",
       "      <td>0</td>\n",
       "      <td>0</td>\n",
       "      <td>0</td>\n",
       "      <td>0</td>\n",
       "      <td>0</td>\n",
       "    </tr>\n",
       "  </tbody>\n",
       "</table>\n",
       "<p>5 rows × 785 columns</p>\n",
       "</div>"
      ],
      "text/plain": [
       "   label  1x1  1x2  1x3  1x4  1x5  1x6  1x7  1x8  1x9  ...  28x19  28x20  \\\n",
       "0      7    0    0    0    0    0    0    0    0    0  ...      0      0   \n",
       "1      2    0    0    0    0    0    0    0    0    0  ...      0      0   \n",
       "2      1    0    0    0    0    0    0    0    0    0  ...      0      0   \n",
       "3      0    0    0    0    0    0    0    0    0    0  ...      0      0   \n",
       "4      4    0    0    0    0    0    0    0    0    0  ...      0      0   \n",
       "\n",
       "   28x21  28x22  28x23  28x24  28x25  28x26  28x27  28x28  \n",
       "0      0      0      0      0      0      0      0      0  \n",
       "1      0      0      0      0      0      0      0      0  \n",
       "2      0      0      0      0      0      0      0      0  \n",
       "3      0      0      0      0      0      0      0      0  \n",
       "4      0      0      0      0      0      0      0      0  \n",
       "\n",
       "[5 rows x 785 columns]"
      ]
     },
     "execution_count": 28,
     "metadata": {},
     "output_type": "execute_result"
    }
   ],
   "source": [
    "df1.head(5)"
   ]
  },
  {
   "cell_type": "markdown",
   "metadata": {},
   "source": [
    "## Show 10 imgs (from mnist_test.csv)"
   ]
  },
  {
   "cell_type": "code",
   "execution_count": 29,
   "metadata": {},
   "outputs": [
    {
     "name": "stdout",
     "output_type": "stream",
     "text": [
      "(784,)\n",
      "(28, 28)\n"
     ]
    },
    {
     "data": {
      "image/png": "[encoded data removed]",
      "text/plain": [
       "<Figure size 576x360 with 1 Axes>"
      ]
     },
     "metadata": {
      "needs_background": "light"
     },
     "output_type": "display_data"
    },
    {
     "name": "stdout",
     "output_type": "stream",
     "text": [
      "(784,)\n",
      "(28, 28)\n"
     ]
    },
    {
     "data": {
      "image/png": "[encoded data removed]",
      "text/plain": [
       "<Figure size 576x360 with 1 Axes>"
      ]
     },
     "metadata": {
      "needs_background": "light"
     },
     "output_type": "display_data"
    },
    {
     "name": "stdout",
     "output_type": "stream",
     "text": [
      "(784,)\n",
      "(28, 28)\n"
     ]
    },
    {
     "data": {
      "image/png": "[encoded data removed]",
      "text/plain": [
       "<Figure size 576x360 with 1 Axes>"
      ]
     },
     "metadata": {
      "needs_background": "light"
     },
     "output_type": "display_data"
    },
    {
     "name": "stdout",
     "output_type": "stream",
     "text": [
      "(784,)\n",
      "(28, 28)\n"
     ]
    },
    {
     "data": {
      "image/png": "[encoded data removed]",
      "text/plain": [
       "<Figure size 576x360 with 1 Axes>"
      ]
     },
     "metadata": {
      "needs_background": "light"
     },
     "output_type": "display_data"
    },
    {
     "name": "stdout",
     "output_type": "stream",
     "text": [
      "(784,)\n",
      "(28, 28)\n"
     ]
    },
    {
     "data": {
      "image/png": "[encoded data removed]",
      "text/plain": [
       "<Figure size 576x360 with 1 Axes>"
      ]
     },
     "metadata": {
      "needs_background": "light"
     },
     "output_type": "display_data"
    },
    {
     "name": "stdout",
     "output_type": "stream",
     "text": [
      "(784,)\n",
      "(28, 28)\n"
     ]
    },
    {
     "data": {
      "image/png": "[encoded data removed]",
      "text/plain": [
       "<Figure size 576x360 with 1 Axes>"
      ]
     },
     "metadata": {
      "needs_background": "light"
     },
     "output_type": "display_data"
    },
    {
     "name": "stdout",
     "output_type": "stream",
     "text": [
      "(784,)\n",
      "(28, 28)\n"
     ]
    },
    {
     "data": {
      "image/png": "[encoded data removed]",
      "text/plain": [
       "<Figure size 576x360 with 1 Axes>"
      ]
     },
     "metadata": {
      "needs_background": "light"
     },
     "output_type": "display_data"
    },
    {
     "name": "stdout",
     "output_type": "stream",
     "text": [
      "(784,)\n",
      "(28, 28)\n"
     ]
    },
    {
     "data": {
      "image/png": "[encoded data removed]",
      "text/plain": [
       "<Figure size 576x360 with 1 Axes>"
      ]
     },
     "metadata": {
      "needs_background": "light"
     },
     "output_type": "display_data"
    },
    {
     "name": "stdout",
     "output_type": "stream",
     "text": [
      "(784,)\n",
      "(28, 28)\n"
     ]
    },
    {
     "data": {
      "image/png": "[encoded data removed]",
      "text/plain": [
       "<Figure size 576x360 with 1 Axes>"
      ]
     },
     "metadata": {
      "needs_background": "light"
     },
     "output_type": "display_data"
    },
    {
     "name": "stdout",
     "output_type": "stream",
     "text": [
      "(784,)\n",
      "(28, 28)\n"
     ]
    },
    {
     "data": {
      "image/png": "[encoded data removed]",
      "text/plain": [
       "<Figure size 576x360 with 1 Axes>"
      ]
     },
     "metadata": {
      "needs_background": "light"
     },
     "output_type": "display_data"
    }
   ],
   "source": [
    "cnt = 0\n",
    "\n",
    "with open('./MNIST_revise/mnist_test.csv', 'r') as csv_file:\n",
    "    csvreader = csv.reader(csv_file)\n",
    "    next(csvreader)\n",
    "    for data in csvreader:\n",
    "        \n",
    "        # The first column is the label\n",
    "        label = data[0]\n",
    "\n",
    "        # The rest of columns are pixels\n",
    "        pixels = data[1:]\n",
    "\n",
    "        # Make those columns into a array of 8-bits pixels\n",
    "        # This array will be of 1D with length 784\n",
    "        # The pixel intensity values are integers from 0 to 255\n",
    "        pixels = np.array(pixels, dtype = 'int64')\n",
    "        print(pixels.shape)\n",
    "        # Reshape the array into 28 x 28 array (2-dimensional array)\n",
    "        pixels = pixels.reshape((28, 28))\n",
    "        print(pixels.shape)\n",
    "        # Plot\n",
    "        plt.title('Label is {label}'.format(label=label))\n",
    "        plt.imshow(pixels, cmap='gray')\n",
    "        plt.show()\n",
    "        \n",
    "        cnt += 1\n",
    "        if cnt == 10:\n",
    "            break"
   ]
  },
  {
   "cell_type": "markdown",
   "metadata": {},
   "source": [
    "# Step 2: Load Data"
   ]
  },
  {
   "cell_type": "code",
   "execution_count": 30,
   "metadata": {},
   "outputs": [],
   "source": [
    "train = pd.read_csv(\"./MNIST_revise/mnist_train.csv\")\n",
    "test  = pd.read_csv(\"./MNIST_revise/mnist_test.csv\")"
   ]
  },
  {
   "cell_type": "code",
   "execution_count": 31,
   "metadata": {
    "scrolled": true
   },
   "outputs": [
    {
     "data": {
      "text/html": [
       "<div>\n",
       "<style scoped>\n",
       "    .dataframe tbody tr th:only-of-type {\n",
       "        vertical-align: middle;\n",
       "    }\n",
       "\n",
       "    .dataframe tbody tr th {\n",
       "        vertical-align: top;\n",
       "    }\n",
       "\n",
       "    .dataframe thead th {\n",
       "        text-align: right;\n",
       "    }\n",
       "</style>\n",
       "<table border=\"1\" class=\"dataframe\">\n",
       "  <thead>\n",
       "    <tr style=\"text-align: right;\">\n",
       "      <th></th>\n",
       "      <th>label</th>\n",
       "      <th>1x1</th>\n",
       "      <th>1x2</th>\n",
       "      <th>1x3</th>\n",
       "      <th>1x4</th>\n",
       "      <th>1x5</th>\n",
       "      <th>1x6</th>\n",
       "      <th>1x7</th>\n",
       "      <th>1x8</th>\n",
       "      <th>1x9</th>\n",
       "      <th>...</th>\n",
       "      <th>28x19</th>\n",
       "      <th>28x20</th>\n",
       "      <th>28x21</th>\n",
       "      <th>28x22</th>\n",
       "      <th>28x23</th>\n",
       "      <th>28x24</th>\n",
       "      <th>28x25</th>\n",
       "      <th>28x26</th>\n",
       "      <th>28x27</th>\n",
       "      <th>28x28</th>\n",
       "    </tr>\n",
       "  </thead>\n",
       "  <tbody>\n",
       "    <tr>\n",
       "      <th>0</th>\n",
       "      <td>5</td>\n",
       "      <td>0</td>\n",
       "      <td>0</td>\n",
       "      <td>0</td>\n",
       "      <td>0</td>\n",
       "      <td>0</td>\n",
       "      <td>0</td>\n",
       "      <td>0</td>\n",
       "      <td>0</td>\n",
       "      <td>0</td>\n",
       "      <td>...</td>\n",
       "      <td>0</td>\n",
       "      <td>0</td>\n",
       "      <td>0</td>\n",
       "      <td>0</td>\n",
       "      <td>0</td>\n",
       "      <td>0</td>\n",
       "      <td>0</td>\n",
       "      <td>0</td>\n",
       "      <td>0</td>\n",
       "      <td>0</td>\n",
       "    </tr>\n",
       "    <tr>\n",
       "      <th>1</th>\n",
       "      <td>0</td>\n",
       "      <td>0</td>\n",
       "      <td>0</td>\n",
       "      <td>0</td>\n",
       "      <td>0</td>\n",
       "      <td>0</td>\n",
       "      <td>0</td>\n",
       "      <td>0</td>\n",
       "      <td>0</td>\n",
       "      <td>0</td>\n",
       "      <td>...</td>\n",
       "      <td>0</td>\n",
       "      <td>0</td>\n",
       "      <td>0</td>\n",
       "      <td>0</td>\n",
       "      <td>0</td>\n",
       "      <td>0</td>\n",
       "      <td>0</td>\n",
       "      <td>0</td>\n",
       "      <td>0</td>\n",
       "      <td>0</td>\n",
       "    </tr>\n",
       "    <tr>\n",
       "      <th>2</th>\n",
       "      <td>4</td>\n",
       "      <td>0</td>\n",
       "      <td>0</td>\n",
       "      <td>0</td>\n",
       "      <td>0</td>\n",
       "      <td>0</td>\n",
       "      <td>0</td>\n",
       "      <td>0</td>\n",
       "      <td>0</td>\n",
       "      <td>0</td>\n",
       "      <td>...</td>\n",
       "      <td>0</td>\n",
       "      <td>0</td>\n",
       "      <td>0</td>\n",
       "      <td>0</td>\n",
       "      <td>0</td>\n",
       "      <td>0</td>\n",
       "      <td>0</td>\n",
       "      <td>0</td>\n",
       "      <td>0</td>\n",
       "      <td>0</td>\n",
       "    </tr>\n",
       "    <tr>\n",
       "      <th>3</th>\n",
       "      <td>1</td>\n",
       "      <td>0</td>\n",
       "      <td>0</td>\n",
       "      <td>0</td>\n",
       "      <td>0</td>\n",
       "      <td>0</td>\n",
       "      <td>0</td>\n",
       "      <td>0</td>\n",
       "      <td>0</td>\n",
       "      <td>0</td>\n",
       "      <td>...</td>\n",
       "      <td>0</td>\n",
       "      <td>0</td>\n",
       "      <td>0</td>\n",
       "      <td>0</td>\n",
       "      <td>0</td>\n",
       "      <td>0</td>\n",
       "      <td>0</td>\n",
       "      <td>0</td>\n",
       "      <td>0</td>\n",
       "      <td>0</td>\n",
       "    </tr>\n",
       "    <tr>\n",
       "      <th>4</th>\n",
       "      <td>9</td>\n",
       "      <td>0</td>\n",
       "      <td>0</td>\n",
       "      <td>0</td>\n",
       "      <td>0</td>\n",
       "      <td>0</td>\n",
       "      <td>0</td>\n",
       "      <td>0</td>\n",
       "      <td>0</td>\n",
       "      <td>0</td>\n",
       "      <td>...</td>\n",
       "      <td>0</td>\n",
       "      <td>0</td>\n",
       "      <td>0</td>\n",
       "      <td>0</td>\n",
       "      <td>0</td>\n",
       "      <td>0</td>\n",
       "      <td>0</td>\n",
       "      <td>0</td>\n",
       "      <td>0</td>\n",
       "      <td>0</td>\n",
       "    </tr>\n",
       "  </tbody>\n",
       "</table>\n",
       "<p>5 rows × 785 columns</p>\n",
       "</div>"
      ],
      "text/plain": [
       "   label  1x1  1x2  1x3  1x4  1x5  1x6  1x7  1x8  1x9  ...  28x19  28x20  \\\n",
       "0      5    0    0    0    0    0    0    0    0    0  ...      0      0   \n",
       "1      0    0    0    0    0    0    0    0    0    0  ...      0      0   \n",
       "2      4    0    0    0    0    0    0    0    0    0  ...      0      0   \n",
       "3      1    0    0    0    0    0    0    0    0    0  ...      0      0   \n",
       "4      9    0    0    0    0    0    0    0    0    0  ...      0      0   \n",
       "\n",
       "   28x21  28x22  28x23  28x24  28x25  28x26  28x27  28x28  \n",
       "0      0      0      0      0      0      0      0      0  \n",
       "1      0      0      0      0      0      0      0      0  \n",
       "2      0      0      0      0      0      0      0      0  \n",
       "3      0      0      0      0      0      0      0      0  \n",
       "4      0      0      0      0      0      0      0      0  \n",
       "\n",
       "[5 rows x 785 columns]"
      ]
     },
     "execution_count": 31,
     "metadata": {},
     "output_type": "execute_result"
    }
   ],
   "source": [
    "train.head()"
   ]
  },
  {
   "cell_type": "code",
   "execution_count": 32,
   "metadata": {},
   "outputs": [
    {
     "data": {
      "text/html": [
       "<div>\n",
       "<style scoped>\n",
       "    .dataframe tbody tr th:only-of-type {\n",
       "        vertical-align: middle;\n",
       "    }\n",
       "\n",
       "    .dataframe tbody tr th {\n",
       "        vertical-align: top;\n",
       "    }\n",
       "\n",
       "    .dataframe thead th {\n",
       "        text-align: right;\n",
       "    }\n",
       "</style>\n",
       "<table border=\"1\" class=\"dataframe\">\n",
       "  <thead>\n",
       "    <tr style=\"text-align: right;\">\n",
       "      <th></th>\n",
       "      <th>label</th>\n",
       "      <th>1x1</th>\n",
       "      <th>1x2</th>\n",
       "      <th>1x3</th>\n",
       "      <th>1x4</th>\n",
       "      <th>1x5</th>\n",
       "      <th>1x6</th>\n",
       "      <th>1x7</th>\n",
       "      <th>1x8</th>\n",
       "      <th>1x9</th>\n",
       "      <th>...</th>\n",
       "      <th>28x19</th>\n",
       "      <th>28x20</th>\n",
       "      <th>28x21</th>\n",
       "      <th>28x22</th>\n",
       "      <th>28x23</th>\n",
       "      <th>28x24</th>\n",
       "      <th>28x25</th>\n",
       "      <th>28x26</th>\n",
       "      <th>28x27</th>\n",
       "      <th>28x28</th>\n",
       "    </tr>\n",
       "  </thead>\n",
       "  <tbody>\n",
       "    <tr>\n",
       "      <th>0</th>\n",
       "      <td>7</td>\n",
       "      <td>0</td>\n",
       "      <td>0</td>\n",
       "      <td>0</td>\n",
       "      <td>0</td>\n",
       "      <td>0</td>\n",
       "      <td>0</td>\n",
       "      <td>0</td>\n",
       "      <td>0</td>\n",
       "      <td>0</td>\n",
       "      <td>...</td>\n",
       "      <td>0</td>\n",
       "      <td>0</td>\n",
       "      <td>0</td>\n",
       "      <td>0</td>\n",
       "      <td>0</td>\n",
       "      <td>0</td>\n",
       "      <td>0</td>\n",
       "      <td>0</td>\n",
       "      <td>0</td>\n",
       "      <td>0</td>\n",
       "    </tr>\n",
       "    <tr>\n",
       "      <th>1</th>\n",
       "      <td>2</td>\n",
       "      <td>0</td>\n",
       "      <td>0</td>\n",
       "      <td>0</td>\n",
       "      <td>0</td>\n",
       "      <td>0</td>\n",
       "      <td>0</td>\n",
       "      <td>0</td>\n",
       "      <td>0</td>\n",
       "      <td>0</td>\n",
       "      <td>...</td>\n",
       "      <td>0</td>\n",
       "      <td>0</td>\n",
       "      <td>0</td>\n",
       "      <td>0</td>\n",
       "      <td>0</td>\n",
       "      <td>0</td>\n",
       "      <td>0</td>\n",
       "      <td>0</td>\n",
       "      <td>0</td>\n",
       "      <td>0</td>\n",
       "    </tr>\n",
       "    <tr>\n",
       "      <th>2</th>\n",
       "      <td>1</td>\n",
       "      <td>0</td>\n",
       "      <td>0</td>\n",
       "      <td>0</td>\n",
       "      <td>0</td>\n",
       "      <td>0</td>\n",
       "      <td>0</td>\n",
       "      <td>0</td>\n",
       "      <td>0</td>\n",
       "      <td>0</td>\n",
       "      <td>...</td>\n",
       "      <td>0</td>\n",
       "      <td>0</td>\n",
       "      <td>0</td>\n",
       "      <td>0</td>\n",
       "      <td>0</td>\n",
       "      <td>0</td>\n",
       "      <td>0</td>\n",
       "      <td>0</td>\n",
       "      <td>0</td>\n",
       "      <td>0</td>\n",
       "    </tr>\n",
       "    <tr>\n",
       "      <th>3</th>\n",
       "      <td>0</td>\n",
       "      <td>0</td>\n",
       "      <td>0</td>\n",
       "      <td>0</td>\n",
       "      <td>0</td>\n",
       "      <td>0</td>\n",
       "      <td>0</td>\n",
       "      <td>0</td>\n",
       "      <td>0</td>\n",
       "      <td>0</td>\n",
       "      <td>...</td>\n",
       "      <td>0</td>\n",
       "      <td>0</td>\n",
       "      <td>0</td>\n",
       "      <td>0</td>\n",
       "      <td>0</td>\n",
       "      <td>0</td>\n",
       "      <td>0</td>\n",
       "      <td>0</td>\n",
       "      <td>0</td>\n",
       "      <td>0</td>\n",
       "    </tr>\n",
       "    <tr>\n",
       "      <th>4</th>\n",
       "      <td>4</td>\n",
       "      <td>0</td>\n",
       "      <td>0</td>\n",
       "      <td>0</td>\n",
       "      <td>0</td>\n",
       "      <td>0</td>\n",
       "      <td>0</td>\n",
       "      <td>0</td>\n",
       "      <td>0</td>\n",
       "      <td>0</td>\n",
       "      <td>...</td>\n",
       "      <td>0</td>\n",
       "      <td>0</td>\n",
       "      <td>0</td>\n",
       "      <td>0</td>\n",
       "      <td>0</td>\n",
       "      <td>0</td>\n",
       "      <td>0</td>\n",
       "      <td>0</td>\n",
       "      <td>0</td>\n",
       "      <td>0</td>\n",
       "    </tr>\n",
       "  </tbody>\n",
       "</table>\n",
       "<p>5 rows × 785 columns</p>\n",
       "</div>"
      ],
      "text/plain": [
       "   label  1x1  1x2  1x3  1x4  1x5  1x6  1x7  1x8  1x9  ...  28x19  28x20  \\\n",
       "0      7    0    0    0    0    0    0    0    0    0  ...      0      0   \n",
       "1      2    0    0    0    0    0    0    0    0    0  ...      0      0   \n",
       "2      1    0    0    0    0    0    0    0    0    0  ...      0      0   \n",
       "3      0    0    0    0    0    0    0    0    0    0  ...      0      0   \n",
       "4      4    0    0    0    0    0    0    0    0    0  ...      0      0   \n",
       "\n",
       "   28x21  28x22  28x23  28x24  28x25  28x26  28x27  28x28  \n",
       "0      0      0      0      0      0      0      0      0  \n",
       "1      0      0      0      0      0      0      0      0  \n",
       "2      0      0      0      0      0      0      0      0  \n",
       "3      0      0      0      0      0      0      0      0  \n",
       "4      0      0      0      0      0      0      0      0  \n",
       "\n",
       "[5 rows x 785 columns]"
      ]
     },
     "execution_count": 32,
     "metadata": {},
     "output_type": "execute_result"
    }
   ],
   "source": [
    "test.head()"
   ]
  },
  {
   "cell_type": "code",
   "execution_count": 33,
   "metadata": {},
   "outputs": [
    {
     "name": "stdout",
     "output_type": "stream",
     "text": [
      "Info of training dataset：\n",
      "# of training samples: 60000, Shape: (60000, 785)\n",
      "# of training pixels : 60000, Shape: (60000, 784)\n",
      "# of classes : 10\n",
      "shape of labels : 60000, Shape: (60000,)\n",
      "\n",
      "Info of validation dataset：\n",
      "# of training samples: 10000, Shape: (10000, 785)\n",
      "# of training pixels : 10000, Shape: (10000, 784)\n",
      "shape of label : 10000, Shape: (10000,)\n"
     ]
    }
   ],
   "source": [
    "X_train = train.drop(labels = [\"label\"],axis = 1)\n",
    "Y_train = train[\"label\"]\n",
    "\n",
    "X_test = test.drop(labels = [\"label\"],axis = 1)\n",
    "Y_test = test[\"label\"]\n",
    "\n",
    "\n",
    "print(\"Info of training dataset：\")\n",
    "print('# of training samples: {}, Shape: {}'.format(len(train), train.shape))\n",
    "print('# of training pixels : {}, Shape: {}'.format(len(X_train), X_train.shape))\n",
    "print('# of classes : {}'.format(len(set(train[\"label\"]))))\n",
    "print('shape of labels : {}, Shape: {}\\n'.format(len(Y_train), Y_train.shape))\n",
    "\n",
    "print(\"Info of validation dataset：\")\n",
    "print('# of training samples: {}, Shape: {}'.format(len(test), test.shape))\n",
    "print('# of training pixels : {}, Shape: {}'.format(len(X_test), X_test.shape))\n",
    "print('shape of label : {}, Shape: {}'.format(len(Y_test), Y_test.shape))"
   ]
  },
  {
   "cell_type": "code",
   "execution_count": 34,
   "metadata": {},
   "outputs": [
    {
     "data": {
      "text/html": [
       "<div>\n",
       "<style scoped>\n",
       "    .dataframe tbody tr th:only-of-type {\n",
       "        vertical-align: middle;\n",
       "    }\n",
       "\n",
       "    .dataframe tbody tr th {\n",
       "        vertical-align: top;\n",
       "    }\n",
       "\n",
       "    .dataframe thead th {\n",
       "        text-align: right;\n",
       "    }\n",
       "</style>\n",
       "<table border=\"1\" class=\"dataframe\">\n",
       "  <thead>\n",
       "    <tr style=\"text-align: right;\">\n",
       "      <th></th>\n",
       "      <th>1x1</th>\n",
       "      <th>1x2</th>\n",
       "      <th>1x3</th>\n",
       "      <th>1x4</th>\n",
       "      <th>1x5</th>\n",
       "      <th>1x6</th>\n",
       "      <th>1x7</th>\n",
       "      <th>1x8</th>\n",
       "      <th>1x9</th>\n",
       "      <th>1x10</th>\n",
       "      <th>...</th>\n",
       "      <th>28x19</th>\n",
       "      <th>28x20</th>\n",
       "      <th>28x21</th>\n",
       "      <th>28x22</th>\n",
       "      <th>28x23</th>\n",
       "      <th>28x24</th>\n",
       "      <th>28x25</th>\n",
       "      <th>28x26</th>\n",
       "      <th>28x27</th>\n",
       "      <th>28x28</th>\n",
       "    </tr>\n",
       "  </thead>\n",
       "  <tbody>\n",
       "    <tr>\n",
       "      <th>0</th>\n",
       "      <td>0</td>\n",
       "      <td>0</td>\n",
       "      <td>0</td>\n",
       "      <td>0</td>\n",
       "      <td>0</td>\n",
       "      <td>0</td>\n",
       "      <td>0</td>\n",
       "      <td>0</td>\n",
       "      <td>0</td>\n",
       "      <td>0</td>\n",
       "      <td>...</td>\n",
       "      <td>0</td>\n",
       "      <td>0</td>\n",
       "      <td>0</td>\n",
       "      <td>0</td>\n",
       "      <td>0</td>\n",
       "      <td>0</td>\n",
       "      <td>0</td>\n",
       "      <td>0</td>\n",
       "      <td>0</td>\n",
       "      <td>0</td>\n",
       "    </tr>\n",
       "    <tr>\n",
       "      <th>1</th>\n",
       "      <td>0</td>\n",
       "      <td>0</td>\n",
       "      <td>0</td>\n",
       "      <td>0</td>\n",
       "      <td>0</td>\n",
       "      <td>0</td>\n",
       "      <td>0</td>\n",
       "      <td>0</td>\n",
       "      <td>0</td>\n",
       "      <td>0</td>\n",
       "      <td>...</td>\n",
       "      <td>0</td>\n",
       "      <td>0</td>\n",
       "      <td>0</td>\n",
       "      <td>0</td>\n",
       "      <td>0</td>\n",
       "      <td>0</td>\n",
       "      <td>0</td>\n",
       "      <td>0</td>\n",
       "      <td>0</td>\n",
       "      <td>0</td>\n",
       "    </tr>\n",
       "    <tr>\n",
       "      <th>2</th>\n",
       "      <td>0</td>\n",
       "      <td>0</td>\n",
       "      <td>0</td>\n",
       "      <td>0</td>\n",
       "      <td>0</td>\n",
       "      <td>0</td>\n",
       "      <td>0</td>\n",
       "      <td>0</td>\n",
       "      <td>0</td>\n",
       "      <td>0</td>\n",
       "      <td>...</td>\n",
       "      <td>0</td>\n",
       "      <td>0</td>\n",
       "      <td>0</td>\n",
       "      <td>0</td>\n",
       "      <td>0</td>\n",
       "      <td>0</td>\n",
       "      <td>0</td>\n",
       "      <td>0</td>\n",
       "      <td>0</td>\n",
       "      <td>0</td>\n",
       "    </tr>\n",
       "    <tr>\n",
       "      <th>3</th>\n",
       "      <td>0</td>\n",
       "      <td>0</td>\n",
       "      <td>0</td>\n",
       "      <td>0</td>\n",
       "      <td>0</td>\n",
       "      <td>0</td>\n",
       "      <td>0</td>\n",
       "      <td>0</td>\n",
       "      <td>0</td>\n",
       "      <td>0</td>\n",
       "      <td>...</td>\n",
       "      <td>0</td>\n",
       "      <td>0</td>\n",
       "      <td>0</td>\n",
       "      <td>0</td>\n",
       "      <td>0</td>\n",
       "      <td>0</td>\n",
       "      <td>0</td>\n",
       "      <td>0</td>\n",
       "      <td>0</td>\n",
       "      <td>0</td>\n",
       "    </tr>\n",
       "    <tr>\n",
       "      <th>4</th>\n",
       "      <td>0</td>\n",
       "      <td>0</td>\n",
       "      <td>0</td>\n",
       "      <td>0</td>\n",
       "      <td>0</td>\n",
       "      <td>0</td>\n",
       "      <td>0</td>\n",
       "      <td>0</td>\n",
       "      <td>0</td>\n",
       "      <td>0</td>\n",
       "      <td>...</td>\n",
       "      <td>0</td>\n",
       "      <td>0</td>\n",
       "      <td>0</td>\n",
       "      <td>0</td>\n",
       "      <td>0</td>\n",
       "      <td>0</td>\n",
       "      <td>0</td>\n",
       "      <td>0</td>\n",
       "      <td>0</td>\n",
       "      <td>0</td>\n",
       "    </tr>\n",
       "    <tr>\n",
       "      <th>...</th>\n",
       "      <td>...</td>\n",
       "      <td>...</td>\n",
       "      <td>...</td>\n",
       "      <td>...</td>\n",
       "      <td>...</td>\n",
       "      <td>...</td>\n",
       "      <td>...</td>\n",
       "      <td>...</td>\n",
       "      <td>...</td>\n",
       "      <td>...</td>\n",
       "      <td>...</td>\n",
       "      <td>...</td>\n",
       "      <td>...</td>\n",
       "      <td>...</td>\n",
       "      <td>...</td>\n",
       "      <td>...</td>\n",
       "      <td>...</td>\n",
       "      <td>...</td>\n",
       "      <td>...</td>\n",
       "      <td>...</td>\n",
       "      <td>...</td>\n",
       "    </tr>\n",
       "    <tr>\n",
       "      <th>59995</th>\n",
       "      <td>0</td>\n",
       "      <td>0</td>\n",
       "      <td>0</td>\n",
       "      <td>0</td>\n",
       "      <td>0</td>\n",
       "      <td>0</td>\n",
       "      <td>0</td>\n",
       "      <td>0</td>\n",
       "      <td>0</td>\n",
       "      <td>0</td>\n",
       "      <td>...</td>\n",
       "      <td>0</td>\n",
       "      <td>0</td>\n",
       "      <td>0</td>\n",
       "      <td>0</td>\n",
       "      <td>0</td>\n",
       "      <td>0</td>\n",
       "      <td>0</td>\n",
       "      <td>0</td>\n",
       "      <td>0</td>\n",
       "      <td>0</td>\n",
       "    </tr>\n",
       "    <tr>\n",
       "      <th>59996</th>\n",
       "      <td>0</td>\n",
       "      <td>0</td>\n",
       "      <td>0</td>\n",
       "      <td>0</td>\n",
       "      <td>0</td>\n",
       "      <td>0</td>\n",
       "      <td>0</td>\n",
       "      <td>0</td>\n",
       "      <td>0</td>\n",
       "      <td>0</td>\n",
       "      <td>...</td>\n",
       "      <td>0</td>\n",
       "      <td>0</td>\n",
       "      <td>0</td>\n",
       "      <td>0</td>\n",
       "      <td>0</td>\n",
       "      <td>0</td>\n",
       "      <td>0</td>\n",
       "      <td>0</td>\n",
       "      <td>0</td>\n",
       "      <td>0</td>\n",
       "    </tr>\n",
       "    <tr>\n",
       "      <th>59997</th>\n",
       "      <td>0</td>\n",
       "      <td>0</td>\n",
       "      <td>0</td>\n",
       "      <td>0</td>\n",
       "      <td>0</td>\n",
       "      <td>0</td>\n",
       "      <td>0</td>\n",
       "      <td>0</td>\n",
       "      <td>0</td>\n",
       "      <td>0</td>\n",
       "      <td>...</td>\n",
       "      <td>0</td>\n",
       "      <td>0</td>\n",
       "      <td>0</td>\n",
       "      <td>0</td>\n",
       "      <td>0</td>\n",
       "      <td>0</td>\n",
       "      <td>0</td>\n",
       "      <td>0</td>\n",
       "      <td>0</td>\n",
       "      <td>0</td>\n",
       "    </tr>\n",
       "    <tr>\n",
       "      <th>59998</th>\n",
       "      <td>0</td>\n",
       "      <td>0</td>\n",
       "      <td>0</td>\n",
       "      <td>0</td>\n",
       "      <td>0</td>\n",
       "      <td>0</td>\n",
       "      <td>0</td>\n",
       "      <td>0</td>\n",
       "      <td>0</td>\n",
       "      <td>0</td>\n",
       "      <td>...</td>\n",
       "      <td>0</td>\n",
       "      <td>0</td>\n",
       "      <td>0</td>\n",
       "      <td>0</td>\n",
       "      <td>0</td>\n",
       "      <td>0</td>\n",
       "      <td>0</td>\n",
       "      <td>0</td>\n",
       "      <td>0</td>\n",
       "      <td>0</td>\n",
       "    </tr>\n",
       "    <tr>\n",
       "      <th>59999</th>\n",
       "      <td>0</td>\n",
       "      <td>0</td>\n",
       "      <td>0</td>\n",
       "      <td>0</td>\n",
       "      <td>0</td>\n",
       "      <td>0</td>\n",
       "      <td>0</td>\n",
       "      <td>0</td>\n",
       "      <td>0</td>\n",
       "      <td>0</td>\n",
       "      <td>...</td>\n",
       "      <td>0</td>\n",
       "      <td>0</td>\n",
       "      <td>0</td>\n",
       "      <td>0</td>\n",
       "      <td>0</td>\n",
       "      <td>0</td>\n",
       "      <td>0</td>\n",
       "      <td>0</td>\n",
       "      <td>0</td>\n",
       "      <td>0</td>\n",
       "    </tr>\n",
       "  </tbody>\n",
       "</table>\n",
       "<p>60000 rows × 784 columns</p>\n",
       "</div>"
      ],
      "text/plain": [
       "       1x1  1x2  1x3  1x4  1x5  1x6  1x7  1x8  1x9  1x10  ...  28x19  28x20  \\\n",
       "0        0    0    0    0    0    0    0    0    0     0  ...      0      0   \n",
       "1        0    0    0    0    0    0    0    0    0     0  ...      0      0   \n",
       "2        0    0    0    0    0    0    0    0    0     0  ...      0      0   \n",
       "3        0    0    0    0    0    0    0    0    0     0  ...      0      0   \n",
       "4        0    0    0    0    0    0    0    0    0     0  ...      0      0   \n",
       "...    ...  ...  ...  ...  ...  ...  ...  ...  ...   ...  ...    ...    ...   \n",
       "59995    0    0    0    0    0    0    0    0    0     0  ...      0      0   \n",
       "59996    0    0    0    0    0    0    0    0    0     0  ...      0      0   \n",
       "59997    0    0    0    0    0    0    0    0    0     0  ...      0      0   \n",
       "59998    0    0    0    0    0    0    0    0    0     0  ...      0      0   \n",
       "59999    0    0    0    0    0    0    0    0    0     0  ...      0      0   \n",
       "\n",
       "       28x21  28x22  28x23  28x24  28x25  28x26  28x27  28x28  \n",
       "0          0      0      0      0      0      0      0      0  \n",
       "1          0      0      0      0      0      0      0      0  \n",
       "2          0      0      0      0      0      0      0      0  \n",
       "3          0      0      0      0      0      0      0      0  \n",
       "4          0      0      0      0      0      0      0      0  \n",
       "...      ...    ...    ...    ...    ...    ...    ...    ...  \n",
       "59995      0      0      0      0      0      0      0      0  \n",
       "59996      0      0      0      0      0      0      0      0  \n",
       "59997      0      0      0      0      0      0      0      0  \n",
       "59998      0      0      0      0      0      0      0      0  \n",
       "59999      0      0      0      0      0      0      0      0  \n",
       "\n",
       "[60000 rows x 784 columns]"
      ]
     },
     "execution_count": 34,
     "metadata": {},
     "output_type": "execute_result"
    }
   ],
   "source": [
    "X_train"
   ]
  },
  {
   "cell_type": "code",
   "execution_count": 35,
   "metadata": {},
   "outputs": [
    {
     "data": {
      "text/plain": [
       "0        5\n",
       "1        0\n",
       "2        4\n",
       "3        1\n",
       "4        9\n",
       "        ..\n",
       "59995    8\n",
       "59996    3\n",
       "59997    5\n",
       "59998    6\n",
       "59999    8\n",
       "Name: label, Length: 60000, dtype: int64"
      ]
     },
     "execution_count": 35,
     "metadata": {},
     "output_type": "execute_result"
    }
   ],
   "source": [
    "Y_train"
   ]
  },
  {
   "cell_type": "code",
   "execution_count": 36,
   "metadata": {},
   "outputs": [
    {
     "data": {
      "text/plain": [
       "Int64Index([1, 7, 3, 2, 9, 0, 6, 8, 4, 5], dtype='int64')"
      ]
     },
     "execution_count": 36,
     "metadata": {},
     "output_type": "execute_result"
    }
   ],
   "source": [
    "train['label'].value_counts().index"
   ]
  },
  {
   "cell_type": "code",
   "execution_count": 37,
   "metadata": {},
   "outputs": [
    {
     "data": {
      "text/plain": [
       "1    6742\n",
       "7    6265\n",
       "3    6131\n",
       "2    5958\n",
       "9    5949\n",
       "0    5923\n",
       "6    5918\n",
       "8    5851\n",
       "4    5842\n",
       "5    5421\n",
       "Name: label, dtype: int64"
      ]
     },
     "execution_count": 37,
     "metadata": {},
     "output_type": "execute_result"
    }
   ],
   "source": [
    "train['label'].value_counts()"
   ]
  },
  {
   "cell_type": "code",
   "execution_count": 38,
   "metadata": {},
   "outputs": [
    {
     "data": {
      "image/png": "[encoded data removed]",
      "text/plain": [
       "<Figure size 576x360 with 1 Axes>"
      ]
     },
     "metadata": {
      "needs_background": "light"
     },
     "output_type": "display_data"
    }
   ],
   "source": [
    "plt.rcParams['figure.figsize'] = (8, 5)\n",
    "plt.bar(train['label'].value_counts().index, train['label'].value_counts(), color = 'orange')\n",
    "plt.xticks(np.arange(len(set(train[\"label\"]))))\n",
    "plt.xlabel('Class', fontsize=16)\n",
    "plt.ylabel('Count', fontsize=16)\n",
    "plt.title(\"Number of digit classes\")\n",
    "plt.grid('on', axis='y')"
   ]
  },
  {
   "cell_type": "markdown",
   "metadata": {},
   "source": [
    "## Normalize"
   ]
  },
  {
   "cell_type": "code",
   "execution_count": 39,
   "metadata": {},
   "outputs": [],
   "source": [
    "X_train = X_train.astype('float32') / 255\n",
    "X_test = X_test.astype('float32') / 255"
   ]
  },
  {
   "cell_type": "markdown",
   "metadata": {},
   "source": [
    "## Split data"
   ]
  },
  {
   "cell_type": "code",
   "execution_count": 40,
   "metadata": {},
   "outputs": [],
   "source": [
    "random_state = np.random.randint(200)\n",
    "img_train, img_val, target_train, target_val = train_test_split(\n",
    "    X_train, Y_train, test_size = 0.2, random_state = random_state\n",
    ")"
   ]
  },
  {
   "cell_type": "code",
   "execution_count": 41,
   "metadata": {},
   "outputs": [],
   "source": [
    "xTrain = torch.from_numpy(img_train.values)\n",
    "yTrain = torch.from_numpy(target_train.values).type(torch.LongTensor) \n",
    "xVal = torch.from_numpy(img_val.values)\n",
    "yVal = torch.from_numpy(target_val.values).type(torch.LongTensor) \n",
    "xTest = torch.from_numpy(X_test.values)\n",
    "yTest = torch.from_numpy(Y_test.values).type(torch.LongTensor) \n",
    "\n",
    "# Pytorch train and test TensorDataset\n",
    "train = torch.utils.data.TensorDataset(xTrain, yTrain)\n",
    "val = torch.utils.data.TensorDataset(xVal, yVal)\n",
    "test = torch.utils.data.TensorDataset(xTest, yTest)"
   ]
  },
  {
   "cell_type": "markdown",
   "metadata": {},
   "source": [
    "# Step 3: Build Model"
   ]
  },
  {
   "cell_type": "markdown",
   "metadata": {},
   "source": [
    "## Hyper Parameters"
   ]
  },
  {
   "cell_type": "code",
   "execution_count": 42,
   "metadata": {},
   "outputs": [],
   "source": [
    "# Hyper Parameters\n",
    "learning_rate = 0.001\n",
    "batch_size = 600\n",
    "n_iters = 10000\n",
    "\n",
    "num_epochs = int(n_iters / (len(img_train) / batch_size) )"
   ]
  },
  {
   "cell_type": "markdown",
   "metadata": {},
   "source": [
    "## DataLoader"
   ]
  },
  {
   "cell_type": "code",
   "execution_count": 43,
   "metadata": {},
   "outputs": [],
   "source": [
    "# DataLoader\n",
    "train_loader = torch.utils.data.DataLoader(train, batch_size = batch_size, shuffle = True)\n",
    "val_loader = torch.utils.data.DataLoader(val, batch_size = batch_size, shuffle = True)\n",
    "test_loader = torch.utils.data.DataLoader(test, batch_size = batch_size, shuffle = True)"
   ]
  },
  {
   "cell_type": "markdown",
   "metadata": {},
   "source": [
    "## Model"
   ]
  },
  {
   "cell_type": "code",
   "execution_count": 44,
   "metadata": {},
   "outputs": [],
   "source": [
    "class Model(nn.Module):\n",
    "    def __init__(self):\n",
    "        super(Model, self).__init__()\n",
    "        # input_shape=(1,28,28)\n",
    "        self.cnn1 = nn.Conv2d(in_channels=1, out_channels=16, kernel_size=3, stride=1, padding=1) #output_shape=(16,26,26)\n",
    "        self.batchnormalize1 = nn.BatchNorm2d(16)\n",
    "        self.relu1 = nn.ReLU()\n",
    "        self.maxpool1 = nn.MaxPool2d(kernel_size=2) #output_shape=(16,13,13)\n",
    "        \n",
    "        # Convolution 2\n",
    "        self.cnn2 = nn.Conv2d(in_channels=16, out_channels=32, kernel_size=3, stride=1, padding=2) #output_shape=(32,16,16)\n",
    "        self.batchnormalize2 = nn.BatchNorm2d(32)\n",
    "        self.relu2 = nn.ReLU() \n",
    "        self.maxpool2 = nn.MaxPool2d(kernel_size=2) #output_shape=(32,8,8)\n",
    "        \n",
    "        # Fully connected  ,#input_shape=(32*8*8)\n",
    "        self.fc1 = nn.Linear(32 * 8 * 8, 10) \n",
    "    \n",
    "    def forward(self, x):\n",
    "        # Convolution 1\n",
    "        out = self.cnn1(x)\n",
    "        out = self.batchnormalize1(out)\n",
    "        out = self.relu1(out)\n",
    "        out = self.maxpool1(out)\n",
    "        \n",
    "        # Convolution 2\n",
    "        out = self.cnn2(out)\n",
    "        out = self.batchnormalize2(out)\n",
    "        out = self.relu2(out)\n",
    "        out = self.maxpool2(out)\n",
    "        out = out.view(out.size(0), -1)\n",
    "        \n",
    "        # Linear function (readout)\n",
    "        out = self.fc1(out)\n",
    "        return out"
   ]
  },
  {
   "cell_type": "code",
   "execution_count": 45,
   "metadata": {},
   "outputs": [
    {
     "name": "stdout",
     "output_type": "stream",
     "text": [
      "Model(\n",
      "  (cnn1): Conv2d(1, 16, kernel_size=(3, 3), stride=(1, 1), padding=(1, 1))\n",
      "  (batchnormalize1): BatchNorm2d(16, eps=1e-05, momentum=0.1, affine=True, track_running_stats=True)\n",
      "  (relu1): ReLU()\n",
      "  (maxpool1): MaxPool2d(kernel_size=2, stride=2, padding=0, dilation=1, ceil_mode=False)\n",
      "  (cnn2): Conv2d(16, 32, kernel_size=(3, 3), stride=(1, 1), padding=(2, 2))\n",
      "  (batchnormalize2): BatchNorm2d(32, eps=1e-05, momentum=0.1, affine=True, track_running_stats=True)\n",
      "  (relu2): ReLU()\n",
      "  (maxpool2): MaxPool2d(kernel_size=2, stride=2, padding=0, dilation=1, ceil_mode=False)\n",
      "  (fc1): Linear(in_features=2048, out_features=10, bias=True)\n",
      ")\n"
     ]
    }
   ],
   "source": [
    "model1 = Model().cuda()\n",
    "print(model1)"
   ]
  },
  {
   "cell_type": "code",
   "execution_count": 46,
   "metadata": {},
   "outputs": [],
   "source": [
    "# # https://clay-atlas.com/blog/2020/04/26/pytorch-cn-note-use-torchsummary-visualization-model/"
   ]
  },
  {
   "cell_type": "markdown",
   "metadata": {},
   "source": [
    "## Summary"
   ]
  },
  {
   "cell_type": "code",
   "execution_count": 47,
   "metadata": {},
   "outputs": [
    {
     "name": "stdout",
     "output_type": "stream",
     "text": [
      "----------------------------------------------------------------\n",
      "        Layer (type)               Output Shape         Param #\n",
      "================================================================\n",
      "            Conv2d-1           [-1, 16, 28, 28]             160\n",
      "       BatchNorm2d-2           [-1, 16, 28, 28]              32\n",
      "              ReLU-3           [-1, 16, 28, 28]               0\n",
      "         MaxPool2d-4           [-1, 16, 14, 14]               0\n",
      "            Conv2d-5           [-1, 32, 16, 16]           4,640\n",
      "       BatchNorm2d-6           [-1, 32, 16, 16]              64\n",
      "              ReLU-7           [-1, 32, 16, 16]               0\n",
      "         MaxPool2d-8             [-1, 32, 8, 8]               0\n",
      "            Linear-9                   [-1, 10]          20,490\n",
      "================================================================\n",
      "Total params: 25,386\n",
      "Trainable params: 25,386\n",
      "Non-trainable params: 0\n",
      "----------------------------------------------------------------\n",
      "Input size (MB): 0.00\n",
      "Forward/backward pass size (MB): 0.51\n",
      "Params size (MB): 0.10\n",
      "Estimated Total Size (MB): 0.61\n",
      "----------------------------------------------------------------\n"
     ]
    }
   ],
   "source": [
    "from torchsummary import summary\n",
    "\n",
    "summary(model1, (1, 28, 28))"
   ]
  },
  {
   "cell_type": "code",
   "execution_count": 48,
   "metadata": {},
   "outputs": [],
   "source": [
    "model = Model()"
   ]
  },
  {
   "cell_type": "code",
   "execution_count": 49,
   "metadata": {},
   "outputs": [],
   "source": [
    "optimizer = torch.optim.Adam(model.parameters(), lr=learning_rate) # https://blog.csdn.net/KGzhang/article/details/77479737\n",
    "loss_func = nn.CrossEntropyLoss()   # the target label is not one-hotted\n",
    "input_shape = (-1, 1, 28, 28)"
   ]
  },
  {
   "cell_type": "code",
   "execution_count": 50,
   "metadata": {},
   "outputs": [],
   "source": [
    "def train_model(model, loss_func, optimizer, input_shape, epoch, num_epochs, train_loader):\n",
    "    training_loss = []\n",
    "    training_accuracy = []\n",
    "    correct_train = 0\n",
    "    total_train = 0\n",
    "    \n",
    "    for i, (images, labels) in enumerate(train_loader):\n",
    "        \n",
    "        train = Variable(images.view(input_shape))\n",
    "        labels = Variable(labels)\n",
    "            \n",
    "        optimizer.zero_grad() # Clear gradients\n",
    "        outputs = model(train)\n",
    "        train_loss = loss_func(outputs, labels) # Calculate softmax and cross entropy loss\n",
    "\n",
    "        train_loss.backward() # Calculate gradients\n",
    "        optimizer.step()      # Update parameters\n",
    "            \n",
    "        # torch.max(input, dim, keepdim=False, out=None) -> (Tensor, LongTensor)\n",
    "        predicted = torch.max(outputs.data, 1)[1] # Get predictions from the maximum value\n",
    "        total_train += len(labels) # Total number of labels\n",
    "        correct_train += (predicted == labels).float().sum() # Total correct predictions   \n",
    "        \n",
    "    train_accuracy = 100 * correct_train / float(total_train)\n",
    "    training_accuracy.append(train_accuracy)\n",
    "    training_loss.append(train_loss.data)\n",
    "    print('Epoch: [{}/{}]'.format(epoch+1, num_epochs))\n",
    "    print(' Train --> Loss: {} Acc: {:.6f}% '.format(train_loss.data, train_accuracy))\n",
    "\n",
    "    return training_loss, training_accuracy"
   ]
  },
  {
   "cell_type": "code",
   "execution_count": 51,
   "metadata": {},
   "outputs": [],
   "source": [
    "def evaluate(model, loss_func, input_shape, val_loader, test_loader, mode):\n",
    "    loss = []\n",
    "    accuracy = []  \n",
    "    \n",
    "    if mode == 'validation':\n",
    "        correct_val = 0\n",
    "        total_val = 0\n",
    "        for images, labels in val_loader:\n",
    "            \n",
    "            val = Variable(images.view(input_shape))\n",
    "            outputs = model(val)\n",
    "\n",
    "            val_loss = loss_func(outputs, labels)\n",
    "            predicted = torch.max(outputs.data, 1)[1]\n",
    "\n",
    "            total_val += len(labels)\n",
    "\n",
    "            correct_val += (predicted == labels).float().sum()\n",
    "            \n",
    "        val_accuracy = 100 * correct_val / float(total_val)\n",
    "        accuracy.append(val_accuracy)\n",
    "        loss.append(val_loss.data)\n",
    "        print(' Val   --> Loss: {} Acc: {:.6f}%'.format(val_loss.data, val_accuracy))\n",
    "        return loss, accuracy, _\n",
    "\n",
    "    elif mode == 'testing':\n",
    "        correct_test = 0\n",
    "        total_test = 0\n",
    "        conf_matrix = np.zeros((10, 10))\n",
    "        class_correct = [0]*10\n",
    "        class_total   = [0]*10\n",
    "        \n",
    "        for images, labels in test_loader:\n",
    "            test = Variable(images.view(input_shape))\n",
    "            outputs = model(test)\n",
    "            test_loss = loss_func(outputs, labels)\n",
    "            predicted = torch.max(outputs.data, 1)[1]\n",
    "\n",
    "            total_test += len(labels)\n",
    "            correct_test += (predicted == labels).float().sum()         \n",
    "            \n",
    "            correct_tensor = predicted.eq(labels.data.view_as(predicted)) # compare, return Tensor(True, True,....)\n",
    "            correct = np.squeeze(correct_tensor.numpy()) # return (True, True,....)\n",
    "        \n",
    "            for i in range(labels.size(0)):\n",
    "                label = labels.data[i]\n",
    "                class_correct[label] += correct[i].item()\n",
    "                class_total[label] += 1\n",
    "        \n",
    "                # Update confusion matrix\n",
    "                conf_matrix[label][predicted.data[i]] += 1\n",
    "        \n",
    "        test_accuracy = 100 * correct_test / float(total_test)\n",
    "        accuracy.append(test_accuracy)\n",
    "        loss.append(test_loss.data)\n",
    "        print(' Test result --> Loss: {} Acc: {:.6f}%'.format(test_loss.data, test_accuracy))\n",
    "        \n",
    "        print('Accuracy of each digits')\n",
    "        for i in range(10):\n",
    "            if class_total[i] > 0:\n",
    "                print('Test Accuracy of {}: {}, [{}/{}]' .format(\n",
    "                    i, 100 * class_correct[i] / class_total[i],\n",
    "                    np.sum(class_correct[i]), np.sum(class_total[i]))\n",
    "                     )\n",
    "            else:\n",
    "                print('Test Accuracy of {}: N/A (no training examples)' .format(classes[i]))\n",
    "\n",
    "        return loss, accuracy, conf_matrix\n",
    "    else:\n",
    "        print(\"Out of mode!\")\n",
    "        return None"
   ]
  },
  {
   "cell_type": "code",
   "execution_count": 52,
   "metadata": {},
   "outputs": [],
   "source": [
    "def fit(model, loss_func, optimizer, input_shape, num_epochs, train_loader, val_loader, test_loader):    \n",
    "    training_loss = []\n",
    "    training_accuracy = []\n",
    "    validation_loss = []\n",
    "    validation_accuracy = []\n",
    "    for epoch in range(num_epochs):\n",
    "        \n",
    "        train_loss_per_epoch, training_accur_per_epoch = train_model(\n",
    "            model, loss_func, optimizer, input_shape, epoch,  num_epochs, train_loader\n",
    "        )\n",
    "        training_loss.append(train_loss_per_epoch)\n",
    "        training_accuracy.append(training_accur_per_epoch)\n",
    "        \n",
    "        mode = 'validation'\n",
    "        val_loss_per_epoch, val_accur_per_epoch,_ = evaluate(\n",
    "            model, loss_func, input_shape, val_loader, test_loader, mode\n",
    "        )\n",
    "        validation_loss.append(val_loss_per_epoch)\n",
    "        validation_accuracy.append(val_accur_per_epoch)\n",
    "    \n",
    "    print(\"Now TESTING!!\")\n",
    "    mode = 'testing'\n",
    "    print(\" Mode：\", mode)\n",
    "    test_loss, test_accur, conf_matrix = evaluate(\n",
    "            model, loss_func, input_shape, val_loader, test_loader, mode\n",
    "        )\n",
    "          \n",
    "    return training_loss, training_accuracy, validation_loss, validation_accuracy, test_loss, test_accur, conf_matrix"
   ]
  },
  {
   "cell_type": "markdown",
   "metadata": {},
   "source": [
    "# Step4: Train Model"
   ]
  },
  {
   "cell_type": "code",
   "execution_count": 53,
   "metadata": {},
   "outputs": [
    {
     "name": "stdout",
     "output_type": "stream",
     "text": [
      "Epoch: [1/125]\n",
      " Train --> Loss: 0.10008823126554489 Acc: 88.783333% \n",
      " Val   --> Loss: 0.16177581250667572 Acc: 96.400002%\n",
      "Epoch: [2/125]\n",
      " Train --> Loss: 0.06822112202644348 Acc: 97.152084% \n",
      " Val   --> Loss: 0.06838776916265488 Acc: 97.741669%\n",
      "Epoch: [3/125]\n",
      " Train --> Loss: 0.06130927428603172 Acc: 97.995834% \n",
      " Val   --> Loss: 0.06709440797567368 Acc: 98.033333%\n",
      "Epoch: [4/125]\n",
      " Train --> Loss: 0.04750137776136398 Acc: 98.437500% \n",
      " Val   --> Loss: 0.04604965075850487 Acc: 98.391670%\n",
      "Epoch: [5/125]\n",
      " Train --> Loss: 0.042151425033807755 Acc: 98.729164% \n",
      " Val   --> Loss: 0.037997763603925705 Acc: 98.550003%\n",
      "Epoch: [6/125]\n",
      " Train --> Loss: 0.02566082403063774 Acc: 98.908333% \n",
      " Val   --> Loss: 0.054346732795238495 Acc: 98.658333%\n",
      "Epoch: [7/125]\n",
      " Train --> Loss: 0.032994288951158524 Acc: 99.037498% \n",
      " Val   --> Loss: 0.033031512051820755 Acc: 98.591667%\n",
      "Epoch: [8/125]\n",
      " Train --> Loss: 0.022563375532627106 Acc: 99.141670% \n",
      " Val   --> Loss: 0.03843516856431961 Acc: 98.775002%\n",
      "Epoch: [9/125]\n",
      " Train --> Loss: 0.020034387707710266 Acc: 99.262497% \n",
      " Val   --> Loss: 0.06401116400957108 Acc: 98.783333%\n",
      "Epoch: [10/125]\n",
      " Train --> Loss: 0.021107949316501617 Acc: 99.283333% \n",
      " Val   --> Loss: 0.0335591696202755 Acc: 98.849998%\n",
      "Epoch: [11/125]\n",
      " Train --> Loss: 0.02391037903726101 Acc: 99.379166% \n",
      " Val   --> Loss: 0.042741935700178146 Acc: 98.808334%\n",
      "Epoch: [12/125]\n",
      " Train --> Loss: 0.020484957844018936 Acc: 99.512497% \n",
      " Val   --> Loss: 0.06649728864431381 Acc: 98.808334%\n",
      "Epoch: [13/125]\n",
      " Train --> Loss: 0.008559761568903923 Acc: 99.570831% \n",
      " Val   --> Loss: 0.07610365748405457 Acc: 98.883331%\n",
      "Epoch: [14/125]\n",
      " Train --> Loss: 0.018882041797041893 Acc: 99.604164% \n",
      " Val   --> Loss: 0.04861832037568092 Acc: 98.941666%\n",
      "Epoch: [15/125]\n",
      " Train --> Loss: 0.018401848152279854 Acc: 99.666664% \n",
      " Val   --> Loss: 0.01917267218232155 Acc: 98.783333%\n",
      "Epoch: [16/125]\n",
      " Train --> Loss: 0.008967922069132328 Acc: 99.687500% \n",
      " Val   --> Loss: 0.01790405809879303 Acc: 98.775002%\n",
      "Epoch: [17/125]\n",
      " Train --> Loss: 0.018922271206974983 Acc: 99.697914% \n",
      " Val   --> Loss: 0.06426699459552765 Acc: 98.900002%\n",
      "Epoch: [18/125]\n",
      " Train --> Loss: 0.009251364506781101 Acc: 99.768753% \n",
      " Val   --> Loss: 0.020647291094064713 Acc: 98.849998%\n",
      "Epoch: [19/125]\n",
      " Train --> Loss: 0.005887776613235474 Acc: 99.818748% \n",
      " Val   --> Loss: 0.025491492822766304 Acc: 98.791664%\n",
      "Epoch: [20/125]\n",
      " Train --> Loss: 0.006992550101131201 Acc: 99.787498% \n",
      " Val   --> Loss: 0.03734379634261131 Acc: 98.833336%\n",
      "Epoch: [21/125]\n",
      " Train --> Loss: 0.010030815377831459 Acc: 99.887497% \n",
      " Val   --> Loss: 0.051978036761283875 Acc: 98.766670%\n",
      "Epoch: [22/125]\n",
      " Train --> Loss: 0.00951673649251461 Acc: 99.866669% \n",
      " Val   --> Loss: 0.015309826470911503 Acc: 98.858330%\n",
      "Epoch: [23/125]\n",
      " Train --> Loss: 0.0057807848788797855 Acc: 99.889580% \n",
      " Val   --> Loss: 0.02914353646337986 Acc: 98.900002%\n",
      "Epoch: [24/125]\n",
      " Train --> Loss: 0.004834854509681463 Acc: 99.949997% \n",
      " Val   --> Loss: 0.03216105327010155 Acc: 98.849998%\n",
      "Epoch: [25/125]\n",
      " Train --> Loss: 0.008653218857944012 Acc: 99.956253% \n",
      " Val   --> Loss: 0.035423923283815384 Acc: 98.883331%\n",
      "Epoch: [26/125]\n",
      " Train --> Loss: 0.004869031719863415 Acc: 99.979164% \n",
      " Val   --> Loss: 0.0830884575843811 Acc: 98.891670%\n",
      "Epoch: [27/125]\n",
      " Train --> Loss: 0.003269399981945753 Acc: 99.977081% \n",
      " Val   --> Loss: 0.03329823538661003 Acc: 98.858330%\n",
      "Epoch: [28/125]\n",
      " Train --> Loss: 0.006378463469445705 Acc: 99.987503% \n",
      " Val   --> Loss: 0.049641203135252 Acc: 98.875000%\n",
      "Epoch: [29/125]\n",
      " Train --> Loss: 0.003832574002444744 Acc: 99.987503% \n",
      " Val   --> Loss: 0.05742845684289932 Acc: 98.908333%\n",
      "Epoch: [30/125]\n",
      " Train --> Loss: 0.0038488595746457577 Acc: 99.997917% \n",
      " Val   --> Loss: 0.06367482244968414 Acc: 98.883331%\n",
      "Epoch: [31/125]\n",
      " Train --> Loss: 0.004693425726145506 Acc: 99.993752% \n",
      " Val   --> Loss: 0.049055781215429306 Acc: 98.875000%\n",
      "Epoch: [32/125]\n",
      " Train --> Loss: 0.00250274152494967 Acc: 99.991669% \n",
      " Val   --> Loss: 0.05867069959640503 Acc: 98.875000%\n",
      "Epoch: [33/125]\n",
      " Train --> Loss: 0.0030500520952045918 Acc: 99.997917% \n",
      " Val   --> Loss: 0.030249135568737984 Acc: 98.900002%\n",
      "Epoch: [34/125]\n",
      " Train --> Loss: 0.002265404211357236 Acc: 99.995834% \n",
      " Val   --> Loss: 0.04224511235952377 Acc: 98.916664%\n",
      "Epoch: [35/125]\n",
      " Train --> Loss: 0.000885401270352304 Acc: 100.000000% \n",
      " Val   --> Loss: 0.06460192799568176 Acc: 98.916664%\n",
      "Epoch: [36/125]\n",
      " Train --> Loss: 0.0021813828498125076 Acc: 100.000000% \n",
      " Val   --> Loss: 0.06505066901445389 Acc: 98.875000%\n",
      "Epoch: [37/125]\n",
      " Train --> Loss: 0.0009181660134345293 Acc: 99.997917% \n",
      " Val   --> Loss: 0.017380621284246445 Acc: 98.958336%\n",
      "Epoch: [38/125]\n",
      " Train --> Loss: 0.0011277702869847417 Acc: 100.000000% \n",
      " Val   --> Loss: 0.023241376504302025 Acc: 98.900002%\n",
      "Epoch: [39/125]\n",
      " Train --> Loss: 0.001188840949907899 Acc: 100.000000% \n",
      " Val   --> Loss: 0.07605771720409393 Acc: 98.883331%\n",
      "Epoch: [40/125]\n",
      " Train --> Loss: 0.0012225434184074402 Acc: 100.000000% \n",
      " Val   --> Loss: 0.0222339890897274 Acc: 98.883331%\n",
      "Epoch: [41/125]\n",
      " Train --> Loss: 0.0007393291452899575 Acc: 100.000000% \n",
      " Val   --> Loss: 0.03668195754289627 Acc: 98.891670%\n",
      "Epoch: [42/125]\n",
      " Train --> Loss: 0.0026726280339062214 Acc: 100.000000% \n",
      " Val   --> Loss: 0.06039063632488251 Acc: 98.966667%\n",
      "Epoch: [43/125]\n",
      " Train --> Loss: 0.0007241886924020946 Acc: 100.000000% \n",
      " Val   --> Loss: 0.057680290192365646 Acc: 98.866669%\n",
      "Epoch: [44/125]\n",
      " Train --> Loss: 0.000445459590991959 Acc: 100.000000% \n",
      " Val   --> Loss: 0.047763556241989136 Acc: 98.925003%\n",
      "Epoch: [45/125]\n",
      " Train --> Loss: 0.0004298014973755926 Acc: 100.000000% \n",
      " Val   --> Loss: 0.07402276247739792 Acc: 98.841667%\n",
      "Epoch: [46/125]\n",
      " Train --> Loss: 0.0006914528785273433 Acc: 100.000000% \n",
      " Val   --> Loss: 0.08065880835056305 Acc: 98.933334%\n",
      "Epoch: [47/125]\n",
      " Train --> Loss: 0.0014221013989299536 Acc: 100.000000% \n",
      " Val   --> Loss: 0.09286981076002121 Acc: 98.866669%\n",
      "Epoch: [48/125]\n",
      " Train --> Loss: 0.0006870795041322708 Acc: 100.000000% \n",
      " Val   --> Loss: 0.03647853434085846 Acc: 98.891670%\n",
      "Epoch: [49/125]\n",
      " Train --> Loss: 0.000822640722617507 Acc: 100.000000% \n",
      " Val   --> Loss: 0.1019090861082077 Acc: 98.883331%\n",
      "Epoch: [50/125]\n",
      " Train --> Loss: 0.000719144067261368 Acc: 100.000000% \n",
      " Val   --> Loss: 0.022538406774401665 Acc: 98.858330%\n",
      "Epoch: [51/125]\n",
      " Train --> Loss: 0.0004151061293669045 Acc: 100.000000% \n",
      " Val   --> Loss: 0.05065809190273285 Acc: 98.858330%\n",
      "Epoch: [52/125]\n",
      " Train --> Loss: 0.00044814523425884545 Acc: 100.000000% \n",
      " Val   --> Loss: 0.016809124499559402 Acc: 98.891670%\n",
      "Epoch: [53/125]\n",
      " Train --> Loss: 0.00029849132988601923 Acc: 100.000000% \n",
      " Val   --> Loss: 0.02907860465347767 Acc: 98.891670%\n",
      "Epoch: [54/125]\n",
      " Train --> Loss: 0.00036483758594840765 Acc: 100.000000% \n",
      " Val   --> Loss: 0.07336731255054474 Acc: 98.858330%\n",
      "Epoch: [55/125]\n",
      " Train --> Loss: 0.00037119636544957757 Acc: 100.000000% \n",
      " Val   --> Loss: 0.038064297288656235 Acc: 98.875000%\n",
      "Epoch: [56/125]\n",
      " Train --> Loss: 0.00045499001862481236 Acc: 100.000000% \n",
      " Val   --> Loss: 0.024059312418103218 Acc: 98.908333%\n",
      "Epoch: [57/125]\n",
      " Train --> Loss: 0.0004970486625097692 Acc: 100.000000% \n",
      " Val   --> Loss: 0.03481359779834747 Acc: 98.833336%\n",
      "Epoch: [58/125]\n",
      " Train --> Loss: 0.00039187417132779956 Acc: 100.000000% \n",
      " Val   --> Loss: 0.005837498232722282 Acc: 98.883331%\n",
      "Epoch: [59/125]\n",
      " Train --> Loss: 0.0003075091808568686 Acc: 100.000000% \n",
      " Val   --> Loss: 0.05708835646510124 Acc: 98.900002%\n",
      "Epoch: [60/125]\n",
      " Train --> Loss: 0.0001813354028854519 Acc: 100.000000% \n",
      " Val   --> Loss: 0.02603968419134617 Acc: 98.866669%\n",
      "Epoch: [61/125]\n",
      " Train --> Loss: 0.00026511921896599233 Acc: 100.000000% \n",
      " Val   --> Loss: 0.05697545409202576 Acc: 98.858330%\n",
      "Epoch: [62/125]\n",
      " Train --> Loss: 0.0002554488892201334 Acc: 100.000000% \n",
      " Val   --> Loss: 0.1343505084514618 Acc: 98.866669%\n",
      "Epoch: [63/125]\n",
      " Train --> Loss: 0.00020761271298397332 Acc: 100.000000% \n",
      " Val   --> Loss: 0.06871481239795685 Acc: 98.849998%\n",
      "Epoch: [64/125]\n",
      " Train --> Loss: 0.00014259926683735102 Acc: 100.000000% \n",
      " Val   --> Loss: 0.08304854482412338 Acc: 98.891670%\n",
      "Epoch: [65/125]\n",
      " Train --> Loss: 0.0002254651190014556 Acc: 100.000000% \n",
      " Val   --> Loss: 0.03620647266507149 Acc: 98.841667%\n",
      "Epoch: [66/125]\n",
      " Train --> Loss: 0.0002056545199593529 Acc: 100.000000% \n"
     ]
    },
    {
     "name": "stdout",
     "output_type": "stream",
     "text": [
      " Val   --> Loss: 0.09325631707906723 Acc: 98.891670%\n",
      "Epoch: [67/125]\n",
      " Train --> Loss: 0.00021832600759807974 Acc: 100.000000% \n",
      " Val   --> Loss: 0.03702177479863167 Acc: 98.891670%\n",
      "Epoch: [68/125]\n",
      " Train --> Loss: 0.0001902866060845554 Acc: 100.000000% \n",
      " Val   --> Loss: 0.06298843026161194 Acc: 98.858330%\n",
      "Epoch: [69/125]\n",
      " Train --> Loss: 0.00011513888603076339 Acc: 100.000000% \n",
      " Val   --> Loss: 0.11377948522567749 Acc: 98.849998%\n",
      "Epoch: [70/125]\n",
      " Train --> Loss: 0.00020348874386399984 Acc: 100.000000% \n",
      " Val   --> Loss: 0.0930265262722969 Acc: 98.841667%\n",
      "Epoch: [71/125]\n",
      " Train --> Loss: 0.00010813083645189181 Acc: 100.000000% \n",
      " Val   --> Loss: 0.05127948895096779 Acc: 98.808334%\n",
      "Epoch: [72/125]\n",
      " Train --> Loss: 0.00013171928003430367 Acc: 100.000000% \n",
      " Val   --> Loss: 0.02543654665350914 Acc: 98.891670%\n",
      "Epoch: [73/125]\n",
      " Train --> Loss: 0.00013425498036667705 Acc: 100.000000% \n",
      " Val   --> Loss: 0.08961526304483414 Acc: 98.900002%\n",
      "Epoch: [74/125]\n",
      " Train --> Loss: 0.00014312894199974835 Acc: 100.000000% \n",
      " Val   --> Loss: 0.0772460401058197 Acc: 98.875000%\n",
      "Epoch: [75/125]\n",
      " Train --> Loss: 8.733288996154442e-05 Acc: 100.000000% \n",
      " Val   --> Loss: 0.07381469756364822 Acc: 98.866669%\n",
      "Epoch: [76/125]\n",
      " Train --> Loss: 7.714700768701732e-05 Acc: 100.000000% \n",
      " Val   --> Loss: 0.09422105550765991 Acc: 98.883331%\n",
      "Epoch: [77/125]\n",
      " Train --> Loss: 0.00013727141777053475 Acc: 100.000000% \n",
      " Val   --> Loss: 0.03515118360519409 Acc: 98.875000%\n",
      "Epoch: [78/125]\n",
      " Train --> Loss: 8.198316936613992e-05 Acc: 100.000000% \n",
      " Val   --> Loss: 0.03284570574760437 Acc: 98.849998%\n",
      "Epoch: [79/125]\n",
      " Train --> Loss: 9.350629261462018e-05 Acc: 100.000000% \n",
      " Val   --> Loss: 0.032948438078165054 Acc: 98.816666%\n",
      "Epoch: [80/125]\n",
      " Train --> Loss: 7.965166150825098e-05 Acc: 100.000000% \n",
      " Val   --> Loss: 0.10595975071191788 Acc: 98.833336%\n",
      "Epoch: [81/125]\n",
      " Train --> Loss: 8.095848897937685e-05 Acc: 100.000000% \n",
      " Val   --> Loss: 0.009458589367568493 Acc: 98.849998%\n",
      "Epoch: [82/125]\n",
      " Train --> Loss: 0.00015941858873702586 Acc: 100.000000% \n",
      " Val   --> Loss: 0.03762226179242134 Acc: 98.849998%\n",
      "Epoch: [83/125]\n",
      " Train --> Loss: 0.0005001784302294254 Acc: 100.000000% \n",
      " Val   --> Loss: 0.06264176964759827 Acc: 98.758331%\n",
      "Epoch: [84/125]\n",
      " Train --> Loss: 0.03169861063361168 Acc: 98.887497% \n",
      " Val   --> Loss: 0.07999973744153976 Acc: 97.574997%\n",
      "Epoch: [85/125]\n",
      " Train --> Loss: 0.009421945549547672 Acc: 99.437500% \n",
      " Val   --> Loss: 0.0683404803276062 Acc: 98.833336%\n",
      "Epoch: [86/125]\n",
      " Train --> Loss: 0.003973332233726978 Acc: 99.835419% \n",
      " Val   --> Loss: 0.014394798316061497 Acc: 98.800003%\n",
      "Epoch: [87/125]\n",
      " Train --> Loss: 0.0029237912967801094 Acc: 99.933334% \n",
      " Val   --> Loss: 0.11547459661960602 Acc: 98.908333%\n",
      "Epoch: [88/125]\n",
      " Train --> Loss: 0.00022189145965967327 Acc: 99.989586% \n",
      " Val   --> Loss: 0.031222783029079437 Acc: 98.941666%\n",
      "Epoch: [89/125]\n",
      " Train --> Loss: 0.00011160892609041184 Acc: 100.000000% \n",
      " Val   --> Loss: 0.06976368278265 Acc: 98.974998%\n",
      "Epoch: [90/125]\n",
      " Train --> Loss: 0.00017264304915443063 Acc: 100.000000% \n",
      " Val   --> Loss: 0.056255437433719635 Acc: 98.983330%\n",
      "Epoch: [91/125]\n",
      " Train --> Loss: 0.0002532494254410267 Acc: 100.000000% \n",
      " Val   --> Loss: 0.0705171525478363 Acc: 98.983330%\n",
      "Epoch: [92/125]\n",
      " Train --> Loss: 7.398424349958077e-05 Acc: 100.000000% \n",
      " Val   --> Loss: 0.038680821657180786 Acc: 98.974998%\n",
      "Epoch: [93/125]\n",
      " Train --> Loss: 0.0001106369963963516 Acc: 100.000000% \n",
      " Val   --> Loss: 0.03213934600353241 Acc: 99.008331%\n",
      "Epoch: [94/125]\n",
      " Train --> Loss: 0.0001956961496034637 Acc: 100.000000% \n",
      " Val   --> Loss: 0.03656516596674919 Acc: 98.974998%\n",
      "Epoch: [95/125]\n",
      " Train --> Loss: 0.00015333729970734566 Acc: 100.000000% \n",
      " Val   --> Loss: 0.05473475158214569 Acc: 99.016670%\n",
      "Epoch: [96/125]\n",
      " Train --> Loss: 9.772146586328745e-05 Acc: 100.000000% \n",
      " Val   --> Loss: 0.07520319521427155 Acc: 99.000000%\n",
      "Epoch: [97/125]\n",
      " Train --> Loss: 0.00011456949141575024 Acc: 100.000000% \n",
      " Val   --> Loss: 0.03809546306729317 Acc: 98.966667%\n",
      "Epoch: [98/125]\n",
      " Train --> Loss: 0.00015999532479327172 Acc: 100.000000% \n",
      " Val   --> Loss: 0.0514306016266346 Acc: 98.966667%\n",
      "Epoch: [99/125]\n",
      " Train --> Loss: 0.00017794080486055464 Acc: 100.000000% \n",
      " Val   --> Loss: 0.01662410795688629 Acc: 98.983330%\n",
      "Epoch: [100/125]\n",
      " Train --> Loss: 0.00011293177522020414 Acc: 100.000000% \n",
      " Val   --> Loss: 0.08179931342601776 Acc: 99.008331%\n",
      "Epoch: [101/125]\n",
      " Train --> Loss: 0.00011516400991240516 Acc: 100.000000% \n",
      " Val   --> Loss: 0.09699676185846329 Acc: 98.974998%\n",
      "Epoch: [102/125]\n",
      " Train --> Loss: 8.413379691774026e-05 Acc: 100.000000% \n",
      " Val   --> Loss: 0.09183546900749207 Acc: 98.991669%\n",
      "Epoch: [103/125]\n",
      " Train --> Loss: 8.938142127590254e-05 Acc: 100.000000% \n",
      " Val   --> Loss: 0.02319670282304287 Acc: 98.983330%\n",
      "Epoch: [104/125]\n",
      " Train --> Loss: 6.256413325900212e-05 Acc: 100.000000% \n",
      " Val   --> Loss: 0.028766870498657227 Acc: 98.974998%\n",
      "Epoch: [105/125]\n",
      " Train --> Loss: 7.043182267807424e-05 Acc: 100.000000% \n",
      " Val   --> Loss: 0.023051444441080093 Acc: 98.974998%\n",
      "Epoch: [106/125]\n",
      " Train --> Loss: 3.2146621379069984e-05 Acc: 100.000000% \n",
      " Val   --> Loss: 0.031703051179647446 Acc: 98.958336%\n",
      "Epoch: [107/125]\n",
      " Train --> Loss: 9.334812784800306e-05 Acc: 100.000000% \n",
      " Val   --> Loss: 0.09922606498003006 Acc: 98.991669%\n",
      "Epoch: [108/125]\n",
      " Train --> Loss: 8.650987001601607e-05 Acc: 100.000000% \n",
      " Val   --> Loss: 0.0454278402030468 Acc: 98.974998%\n",
      "Epoch: [109/125]\n",
      " Train --> Loss: 0.00010997909703291953 Acc: 100.000000% \n",
      " Val   --> Loss: 0.11572297662496567 Acc: 98.949997%\n",
      "Epoch: [110/125]\n",
      " Train --> Loss: 5.16031141160056e-05 Acc: 100.000000% \n",
      " Val   --> Loss: 0.07942919433116913 Acc: 98.974998%\n",
      "Epoch: [111/125]\n",
      " Train --> Loss: 4.923604865325615e-05 Acc: 100.000000% \n",
      " Val   --> Loss: 0.05440915375947952 Acc: 98.958336%\n",
      "Epoch: [112/125]\n",
      " Train --> Loss: 6.524676427943632e-05 Acc: 100.000000% \n",
      " Val   --> Loss: 0.10183481127023697 Acc: 99.000000%\n",
      "Epoch: [113/125]\n",
      " Train --> Loss: 4.905650712316856e-05 Acc: 100.000000% \n",
      " Val   --> Loss: 0.0416942834854126 Acc: 99.000000%\n",
      "Epoch: [114/125]\n",
      " Train --> Loss: 9.648929699324071e-05 Acc: 100.000000% \n",
      " Val   --> Loss: 0.06687420606613159 Acc: 98.941666%\n",
      "Epoch: [115/125]\n",
      " Train --> Loss: 9.46130821830593e-05 Acc: 100.000000% \n",
      " Val   --> Loss: 0.06889411807060242 Acc: 98.974998%\n",
      "Epoch: [116/125]\n",
      " Train --> Loss: 3.698853470268659e-05 Acc: 100.000000% \n",
      " Val   --> Loss: 0.07741609215736389 Acc: 98.958336%\n",
      "Epoch: [117/125]\n",
      " Train --> Loss: 5.673073974321596e-05 Acc: 100.000000% \n",
      " Val   --> Loss: 0.038885701447725296 Acc: 98.941666%\n",
      "Epoch: [118/125]\n",
      " Train --> Loss: 6.57968339510262e-05 Acc: 100.000000% \n",
      " Val   --> Loss: 0.0053116800263524055 Acc: 98.974998%\n",
      "Epoch: [119/125]\n",
      " Train --> Loss: 8.50716678542085e-05 Acc: 100.000000% \n",
      " Val   --> Loss: 0.05198587477207184 Acc: 98.958336%\n",
      "Epoch: [120/125]\n",
      " Train --> Loss: 4.560332672554068e-05 Acc: 100.000000% \n",
      " Val   --> Loss: 0.04380108043551445 Acc: 98.958336%\n",
      "Epoch: [121/125]\n",
      " Train --> Loss: 6.402145663741976e-05 Acc: 100.000000% \n",
      " Val   --> Loss: 0.08183709532022476 Acc: 98.958336%\n",
      "Epoch: [122/125]\n",
      " Train --> Loss: 6.0638300055870786e-05 Acc: 100.000000% \n",
      " Val   --> Loss: 0.08082062751054764 Acc: 98.983330%\n",
      "Epoch: [123/125]\n",
      " Train --> Loss: 7.84975491114892e-05 Acc: 100.000000% \n",
      " Val   --> Loss: 0.04477398842573166 Acc: 98.991669%\n",
      "Epoch: [124/125]\n",
      " Train --> Loss: 4.4881602661916986e-05 Acc: 100.000000% \n",
      " Val   --> Loss: 0.04080768674612045 Acc: 99.000000%\n",
      "Epoch: [125/125]\n",
      " Train --> Loss: 5.6095719628501683e-05 Acc: 100.000000% \n",
      " Val   --> Loss: 0.07620615512132645 Acc: 98.933334%\n",
      "Now TESTING!!\n",
      " Mode： testing\n",
      " Test result --> Loss: 0.004331372678279877 Acc: 98.949997%\n",
      "Accuracy of each digits\n",
      "Test Accuracy of 0: 99.6938775510204, [977/980]\n",
      "Test Accuracy of 1: 99.55947136563877, [1130/1135]\n",
      "Test Accuracy of 2: 99.03100775193798, [1022/1032]\n",
      "Test Accuracy of 3: 99.3069306930693, [1003/1010]\n",
      "Test Accuracy of 4: 99.28716904276986, [975/982]\n",
      "Test Accuracy of 5: 98.76681614349776, [881/892]\n",
      "Test Accuracy of 6: 98.53862212943632, [944/958]\n",
      "Test Accuracy of 7: 98.34630350194553, [1011/1028]\n",
      "Test Accuracy of 8: 98.870636550308, [963/974]\n",
      "Test Accuracy of 9: 98.01783944499505, [989/1009]\n"
     ]
    }
   ],
   "source": [
    "training_loss, training_accuracy, validation_loss, validation_accuracy, test_loss, test_accur, conf_matrix = fit(\n",
    "    model, loss_func, optimizer, input_shape, num_epochs, train_loader, val_loader, test_loader\n",
    ")"
   ]
  },
  {
   "cell_type": "markdown",
   "metadata": {},
   "source": [
    "## Loss & Accuracy"
   ]
  },
  {
   "cell_type": "code",
   "execution_count": 54,
   "metadata": {},
   "outputs": [
    {
     "data": {
      "image/png": "[encoded data removed]",
      "text/plain": [
       "<Figure size 576x360 with 1 Axes>"
      ]
     },
     "metadata": {
      "needs_background": "light"
     },
     "output_type": "display_data"
    },
    {
     "data": {
      "image/png": "[encoded data removed]",
      "text/plain": [
       "<Figure size 576x360 with 1 Axes>"
      ]
     },
     "metadata": {
      "needs_background": "light"
     },
     "output_type": "display_data"
    }
   ],
   "source": [
    "# visualization\n",
    "plt.plot(training_loss, color='cornflowerblue', label='Training_loss')\n",
    "plt.plot(validation_loss, color='orange', label='validation_loss')\n",
    "plt.title('Training & Validation loss')\n",
    "plt.xlabel('Number of epochs')\n",
    "plt.ylabel('Loss')\n",
    "plt.legend()\n",
    "plt.show()\n",
    "\n",
    "plt.plot(training_accuracy, color='cornflowerblue', label='Training_accuracy')\n",
    "plt.plot(validation_accuracy, color='orange', label='Validation_accuracy')\n",
    "plt.title('Training & Validation accuracy')\n",
    "plt.xlabel('Number of epochs')\n",
    "plt.ylabel('Accuracy')\n",
    "plt.legend()\n",
    "plt.show()"
   ]
  },
  {
   "cell_type": "markdown",
   "metadata": {},
   "source": [
    "# Inference"
   ]
  },
  {
   "cell_type": "code",
   "execution_count": 55,
   "metadata": {},
   "outputs": [],
   "source": [
    "def inference(model, loss_func, input_shape, data_loader):\n",
    "    loss = []\n",
    "    accuracy = []  \n",
    "    correct_val = 0\n",
    "    total_val = 0\n",
    "    \n",
    "    fig = plt.figure(figsize=(15,10))\n",
    "    \n",
    "    cnt = 0\n",
    "    \n",
    "    for images, labels in data_loader:\n",
    "        if cnt < 16:\n",
    "            val = Variable(images.view(input_shape))\n",
    "            outputs = model(val)\n",
    "\n",
    "            val_loss = loss_func(outputs, labels)\n",
    "            predicted = torch.max(outputs.data, 1)[1]\n",
    "\n",
    "            total_val += len(labels)\n",
    "\n",
    "            correct_val += (predicted == labels).float().sum()\n",
    "            \n",
    "            ax = fig.add_subplot(4, 8, cnt+1)\n",
    "            ax.imshow(images[cnt].resize(28,28), cmap='gray')\n",
    "\n",
    "            ax.set_title('y: {y}/ y_pred: {y_hat}'.format(y=labels[cnt], y_hat=predicted[cnt]))\n",
    "            plt.axis('off')\n",
    "            cnt += 1 \n",
    "            \n",
    "        else:\n",
    "            break\n",
    "\n",
    "    val_accuracy = 100 * correct_val / float(total_val)\n",
    "    accuracy.append(val_accuracy)\n",
    "    loss.append(val_loss.data)\n",
    "    print('Loss: {} Acc: {:.6f}%'.format(val_loss.data, val_accuracy))\n",
    "    \n",
    "    \n",
    "    return loss, accuracy\n",
    "\n",
    "\n",
    "\n",
    "#          pixels = np.array(pixels, dtype = 'int64')\n",
    "#         print(pixels.shape)\n",
    "#         # Reshape the array into 28 x 28 array (2-dimensional array)\n",
    "#         pixels = pixels.reshape((28, 28))\n",
    "#         print(pixels.shape)\n",
    "#         # Plot\n",
    "#         plt.title('Label is {label}'.format(label=label))\n",
    "#         plt.imshow(pixels, cmap='gray')"
   ]
  },
  {
   "cell_type": "code",
   "execution_count": 56,
   "metadata": {},
   "outputs": [
    {
     "name": "stderr",
     "output_type": "stream",
     "text": [
      "/usr/local/lib/python3.6/dist-packages/torch/tensor.py:362: UserWarning: non-inplace resize is deprecated\n",
      "  warnings.warn(\"non-inplace resize is deprecated\")\n"
     ]
    },
    {
     "name": "stdout",
     "output_type": "stream",
     "text": [
      "Loss: 0.06581651419401169 Acc: 98.927086%\n"
     ]
    },
    {
     "data": {
      "image/png": "[encoded data removed]",
      "text/plain": [
       "<Figure size 1080x720 with 16 Axes>"
      ]
     },
     "metadata": {
      "needs_background": "light"
     },
     "output_type": "display_data"
    }
   ],
   "source": [
    "loss, accuraccy = inference(model, loss_func, input_shape, test_loader)"
   ]
  },
  {
   "cell_type": "code",
   "execution_count": 57,
   "metadata": {},
   "outputs": [
    {
     "data": {
      "image/png": "[encoded data removed]",
      "text/plain": [
       "<Figure size 720x648 with 2 Axes>"
      ]
     },
     "metadata": {
      "needs_background": "light"
     },
     "output_type": "display_data"
    }
   ],
   "source": [
    "import seaborn as sns\n",
    "plt.subplots(figsize=(10, 9))\n",
    "plt.title('Cofusion matrix')\n",
    "ax = sns.heatmap(conf_matrix, annot=True, vmax=20)\n",
    "ax.set_xlabel('Predicted');\n",
    "ax.set_ylabel('label');"
   ]
  },
  {
   "cell_type": "code",
   "execution_count": null,
   "metadata": {},
   "outputs": [],
   "source": []
  },
  {
   "cell_type": "code",
   "execution_count": null,
   "metadata": {},
   "outputs": [],
   "source": []
  },
  {
   "cell_type": "code",
   "execution_count": null,
   "metadata": {},
   "outputs": [],
   "source": []
  },
  {
   "cell_type": "code",
   "execution_count": null,
   "metadata": {},
   "outputs": [],
   "source": []
  },
  {
   "cell_type": "code",
   "execution_count": null,
   "metadata": {},
   "outputs": [],
   "source": []
  },
  {
   "cell_type": "code",
   "execution_count": null,
   "metadata": {},
   "outputs": [],
   "source": []
  },
  {
   "cell_type": "code",
   "execution_count": null,
   "metadata": {},
   "outputs": [],
   "source": []
  },
  {
   "cell_type": "code",
   "execution_count": null,
   "metadata": {},
   "outputs": [],
   "source": []
  },
  {
   "cell_type": "code",
   "execution_count": null,
   "metadata": {},
   "outputs": [],
   "source": []
  },
  {
   "cell_type": "code",
   "execution_count": null,
   "metadata": {},
   "outputs": [],
   "source": []
  },
  {
   "cell_type": "code",
   "execution_count": null,
   "metadata": {},
   "outputs": [],
   "source": []
  },
  {
   "cell_type": "code",
   "execution_count": null,
   "metadata": {},
   "outputs": [],
   "source": []
  },
  {
   "cell_type": "code",
   "execution_count": null,
   "metadata": {},
   "outputs": [],
   "source": [
    "# def to_tensor(data):\n",
    "#     return [torch.FloatTensor(point) for point in data]\n",
    "\n",
    "# class MNISTData(Dataset):\n",
    "#     def __init__(self, df, X_col, Y_col=None):\n",
    "#         \"\"\"\n",
    "#         We're divding the values by 255 to normalize the dataset. \n",
    "#         It speeds up training. Why 255? because that's the maximum value for a pixel\n",
    "#         \"\"\"\n",
    "        \n",
    "#         self.features = df[X_col].values / 255\n",
    "#         self.features = self.features.reshape(len(self.features), 1, 28, 28)\n",
    "#         self.targets = df[Y_col].values.reshape((-1, 1))\n",
    "#         # -1 indicates that the first dimension could be anything\n",
    "        \n",
    "#     \"\"\"\n",
    "#     To return the length of the dataset\n",
    "#     \"\"\"\n",
    "\n",
    "#     def __len__(self):\n",
    "#         return len(self.targets)\n",
    "    \n",
    "#     \"\"\"\n",
    "#     This method will get data from the dataframe, based on the index values(idx)\n",
    "#     \"\"\"\n",
    "    \n",
    "#     def __getitem__(self, idx):\n",
    "#         return to_tensor([self.features[idx], self.targets[idx]])"
   ]
  },
  {
   "cell_type": "code",
   "execution_count": null,
   "metadata": {},
   "outputs": [],
   "source": [
    "# # We'll split our data into 80% training and 20% test data \n",
    "# split = int(0.8 * len(train))\n",
    "# valid_data = train[split:].reset_index(drop=True)\n",
    "# train_data = train[:split].reset_index(drop=True)\n",
    "# valid_data.head()"
   ]
  },
  {
   "cell_type": "code",
   "execution_count": null,
   "metadata": {},
   "outputs": [],
   "source": [
    "# # Getting features of the image (pixel 0-783, 784 pixels in total for a 28*28 image)\n",
    "# X_col = list(train.columns[1:])\n",
    "# y_col = \"label\"\n",
    "\n",
    "# train_set = MNISTData(train_data, X_col, y_col)\n",
    "# valid_set = MNISTData(valid_data, X_col, y_col)\n",
    "\n",
    "# # DataLoader\n",
    "# train_loader = torch.utils.data.DataLoader(train, batch_size = batch_size, shuffle = True)\n",
    "# val_loader = torch.utils.data.DataLoader(val, batch_size = batch_size, shuffle = True)\n",
    "# test_loader = torch.utils.data.DataLoader(test, batch_size = batch_size, shuffle = True)\n",
    "\n",
    "# for data in train_loader:\n",
    "#     X_train, y_train = data\n",
    "#     fig = plt.figure()\n",
    "#     plt.imshow(X_train[0].reshape(28, 28), cmap='gray')\n",
    "#     break"
   ]
  },
  {
   "cell_type": "code",
   "execution_count": null,
   "metadata": {},
   "outputs": [],
   "source": [
    "# class cnn_model(nn.Module):\n",
    "#     def __init__(self):\n",
    "#         super(model, self).__init__()\n",
    "#         self.conv1 = nn.Sequential(\n",
    "#             nn.Conv2d(in_channels=1, out_channels=4, kernel_size=3, stride=1, padding=1, padding_mode='replicate'),\n",
    "#             nn.ReLU(),\n",
    "#             nn.MaxPool2d(kernel_size=2, stride=2),\n",
    "#             nn.BatchNorm2d(4))\n",
    "\n",
    "#         self.conv2 = nn.Sequential(\n",
    "#             nn.Conv2d(in_channels=4, out_channels=8, kernel_size=3, stride=1, padding=1, padding_mode='replicate'),\n",
    "#             nn.ReLU(),\n",
    "#             nn.MaxPool2d(kernel_size=2, stride=2),\n",
    "#             nn.BatchNorm2d(8))\n",
    "\n",
    "#         self.fc1 = nn.Sequential(\n",
    "#             nn.Linear(392, 128),\n",
    "#             nn.Dropout(0.5),\n",
    "#             nn.ReLU(),\n",
    "#             nn.BatchNorm1d(128))\n",
    "\n",
    "#         self.fc2 = nn.Sequential(\n",
    "#             nn.Linear(128, 10))\n",
    "            \n",
    "#     def forward(self, inputs):\n",
    "#         x = self.conv1(inputs)\n",
    "#         # print(f\"After conv1, dimensions are: {x.shape}\")\n",
    "#         x = self.conv2(x)\n",
    "#         # print(f\"After conv2, dimensions are: {x.shape}\")\n",
    "#         # Flattening the image\n",
    "#         x = x.flatten(start_dim=1, end_dim=-1)\n",
    "#         x = self.fc1(x)\n",
    "#         # print(f\"After fc1, dimensions are: {x.shape}\")\n",
    "#         x = self.fc2(x)\n",
    "#         x = nn.LogSoftmax(dim=1)(x)\n",
    "#         # print(f\"After fc2, dimensions are: {x.shape}\")\n",
    "#         return x"
   ]
  },
  {
   "cell_type": "code",
   "execution_count": null,
   "metadata": {},
   "outputs": [],
   "source": [
    "# def acc(y_true, y_pred):\n",
    "#     y_true = y_true.long().squeeze()\n",
    "#     y_pred = torch.argmax(y_pred, axis=1)\n",
    "#     return (y_true==y_pred).float().sum()/len(y_true)"
   ]
  },
  {
   "cell_type": "code",
   "execution_count": null,
   "metadata": {},
   "outputs": [],
   "source": [
    "# network = cnn_model()"
   ]
  },
  {
   "cell_type": "code",
   "execution_count": null,
   "metadata": {},
   "outputs": [],
   "source": [
    "# # Loss and optimizer\n",
    "# criterion = nn.CrossEntropyLoss()\n",
    "# optimizer = torch.optim.Adam(network.parameters())\n",
    "# loss = []\n",
    "# accuracy = []\n",
    "# num_epochs = 15\n",
    "# for i in range(1, num_epochs+1):\n",
    "#     for data in train_loader:\n",
    "#         batch_X, batch_Y = data\n",
    "#         batch_prediction = network.forward(batch_X)\n",
    "#         #print(batch_prediction[0])\n",
    "        \n",
    "#         batch_Y = batch_Y.long().squeeze()\n",
    "#         #print(f\"Y_Pred Dimensions: {batch_Y.shape}\\tPrediction Dimensions:{batch_prediction.shape}\")\n",
    "#         batch_loss = criterion(batch_prediction, batch_Y)\n",
    "#         batch_acc = acc(batch_Y, batch_prediction)\n",
    "    \n",
    "#         optimizer.zero_grad()\n",
    "#         batch_loss.backward()\n",
    "#         optimizer.step()\n",
    "        \n",
    "#         loss.append(batch_loss)\n",
    "#         accuracy.append(batch_acc)\n",
    "#     with torch.no_grad():\n",
    "#         for valid_batch in valid_loader:\n",
    "#             valid_X, valid_Y = valid_batch\n",
    "#             valid_Y = valid_Y.long().squeeze()\n",
    "#             valid_prediction = network.forward(valid_X)\n",
    "#             valid_loss = criterion(valid_prediction, valid_Y)\n",
    "#             valid_acc = acc(valid_Y, valid_prediction)\n",
    "            \n",
    "            \n",
    "#     print(f\"Epoch: [{i}/{num_epochs}]\")\n",
    "#     print(f\"Training Accuracy: {batch_acc:.4f}\\tTraining Loss: {batch_loss:.4f}\\nValidation Accuracy: {valid_acc:.4f}\\tValidation Loss: {valid_loss:.4f}\")"
   ]
  },
  {
   "cell_type": "code",
   "execution_count": null,
   "metadata": {},
   "outputs": [],
   "source": []
  },
  {
   "cell_type": "code",
   "execution_count": null,
   "metadata": {},
   "outputs": [],
   "source": []
  },
  {
   "cell_type": "code",
   "execution_count": null,
   "metadata": {},
   "outputs": [],
   "source": []
  },
  {
   "cell_type": "code",
   "execution_count": null,
   "metadata": {},
   "outputs": [],
   "source": []
  },
  {
   "cell_type": "code",
   "execution_count": null,
   "metadata": {},
   "outputs": [],
   "source": []
  },
  {
   "cell_type": "code",
   "execution_count": null,
   "metadata": {},
   "outputs": [],
   "source": [
    "# class model(nn.Module):\n",
    "#     def __init__(self):\n",
    "#         super(model, self).__init__()\n",
    "#         self.conv1 = nn.Sequential(\n",
    "#             nn.Conv2d(in_channels=1, out_channels=4, kernel_size=3, stride=1, padding=1, padding_mode='replicate'),\n",
    "#             nn.ReLU(),\n",
    "#             nn.MaxPool2d(kernel_size=2, stride=2),\n",
    "#             nn.BatchNorm2d(4))\n",
    "\n",
    "#         self.conv2 = nn.Sequential(\n",
    "#             nn.Conv2d(in_channels=4, out_channels=8, kernel_size=3, stride=1, padding=1, padding_mode='replicate'),\n",
    "#             nn.ReLU(),\n",
    "#             nn.MaxPool2d(kernel_size=2, stride=2),\n",
    "#             nn.BatchNorm2d(8))\n",
    "\n",
    "#         self.fc1 = nn.Sequential(\n",
    "#             nn.Linear(392, 128),\n",
    "#             nn.Dropout(0.5),\n",
    "#             nn.ReLU(),\n",
    "#             nn.BatchNorm1d(128))\n",
    "\n",
    "#         self.fc2 = nn.Sequential(\n",
    "#             nn.Linear(128, 10))\n",
    "            \n",
    "#     def forward(self, inputs):\n",
    "#         x = self.conv1(inputs)\n",
    "#         # print(f\"After conv1, dimensions are: {x.shape}\")\n",
    "#         x = self.conv2(x)\n",
    "#         # print(f\"After conv2, dimensions are: {x.shape}\")\n",
    "#         # Flattening the image\n",
    "#         x = x.flatten(start_dim=1, end_dim=-1)\n",
    "#         x = self.fc1(x)\n",
    "#         # print(f\"After fc1, dimensions are: {x.shape}\")\n",
    "#         x = self.fc2(x)\n",
    "#         x = nn.LogSoftmax(dim=1)(x)\n",
    "#         # print(f\"After fc2, dimensions are: {x.shape}\")\n",
    "#         return x"
   ]
  },
  {
   "cell_type": "code",
   "execution_count": null,
   "metadata": {},
   "outputs": [],
   "source": [
    "# MNISTreader\n",
    "# https://www.kaggle.com/code/iankwuan/mnistreader"
   ]
  },
  {
   "cell_type": "code",
   "execution_count": null,
   "metadata": {},
   "outputs": [],
   "source": [
    "# Mnist with Pytorch (CNN)\n",
    "# https://www.kaggle.com/code/techpy/mnist-with-pytorch-cnn/notebook"
   ]
  },
  {
   "cell_type": "code",
   "execution_count": null,
   "metadata": {},
   "outputs": [],
   "source": []
  }
 ],
 "metadata": {
  "kernelspec": {
   "display_name": "Python 3 (ipykernel)",
   "language": "python",
   "name": "python3"
  },
  "language_info": {
   "codemirror_mode": {
    "name": "ipython",
    "version": 3
   },
   "file_extension": ".py",
   "mimetype": "text/x-python",
   "name": "python",
   "nbconvert_exporter": "python",
   "pygments_lexer": "ipython3",
   "version": "3.6.9"
  }
 },
 "nbformat": 4,
 "nbformat_minor": 4
}
